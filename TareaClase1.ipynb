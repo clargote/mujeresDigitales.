{
  "nbformat": 4,
  "nbformat_minor": 0,
  "metadata": {
    "colab": {
      "name": "TareaClase1.ipynb",
      "provenance": [],
      "authorship_tag": "ABX9TyP006Z8RXPFvMJzZTNAPnUk",
      "include_colab_link": true
    },
    "kernelspec": {
      "name": "python3",
      "display_name": "Python 3"
    },
    "language_info": {
      "name": "python"
    }
  },
  "cells": [
    {
      "cell_type": "markdown",
      "metadata": {
        "id": "view-in-github",
        "colab_type": "text"
      },
      "source": [
        "<a href=\"https://colab.research.google.com/github/clargote/mujeresDigitales/blob/main/TareaClase1.ipynb\" target=\"_parent\"><img src=\"https://colab.research.google.com/assets/colab-badge.svg\" alt=\"Open In Colab\"/></a>"
      ]
    },
    {
      "cell_type": "markdown",
      "metadata": {
        "id": "BVwFQ1OVIS_e"
      },
      "source": [
        "Constantes"
      ]
    },
    {
      "cell_type": "code",
      "metadata": {
        "colab": {
          "base_uri": "https://localhost:8080/"
        },
        "id": "BOz2TIh7IKdG",
        "outputId": "24aff07e-e051-4b20-8dae-b2af3bac13d1"
      },
      "source": [
        "pi=3.1416\n",
        "iva=0.19                                                                \n",
        "\n",
        "\n",
        "print(pi)\n",
        "print(iva)"
      ],
      "execution_count": null,
      "outputs": [
        {
          "output_type": "stream",
          "text": [
            "3.1416\n",
            "0.19\n"
          ],
          "name": "stdout"
        }
      ]
    },
    {
      "cell_type": "markdown",
      "metadata": {
        "id": "BFTYHgsVIsPp"
      },
      "source": [
        "Variables"
      ]
    },
    {
      "cell_type": "code",
      "metadata": {
        "colab": {
          "base_uri": "https://localhost:8080/"
        },
        "id": "pArMpkU4IxdF",
        "outputId": "913a955f-8b76-438a-e0af-fb911492e0cf"
      },
      "source": [
        "edad=8\n",
        "ciudad=\"Cali\"\n",
        "\n",
        "\n",
        "print(edad)\n",
        "print(ciudad)\n"
      ],
      "execution_count": null,
      "outputs": [
        {
          "output_type": "stream",
          "text": [
            "4\n",
            "Cali\n"
          ],
          "name": "stdout"
        }
      ]
    },
    {
      "cell_type": "markdown",
      "metadata": {
        "id": "UpgtECOZJet7"
      },
      "source": [
        "**Tipo de datos**\n",
        "---\n",
        "*Enteros*"
      ]
    },
    {
      "cell_type": "code",
      "metadata": {
        "colab": {
          "base_uri": "https://localhost:8080/"
        },
        "id": "UYbh6pEXJ4fn",
        "outputId": "61bb0e35-7fad-4197-893f-6ff94dc81828"
      },
      "source": [
        "pasaje=int(2200)\n",
        "print(pasaje)\n",
        "\n",
        "\n",
        "deuda=int(-256)\n",
        "print(deuda,type(deuda))\n",
        "\n"
      ],
      "execution_count": null,
      "outputs": [
        {
          "output_type": "stream",
          "text": [
            "2200\n",
            "-256 <class 'int'>\n"
          ],
          "name": "stdout"
        }
      ]
    },
    {
      "cell_type": "markdown",
      "metadata": {
        "id": "kO-0LwogKfUy"
      },
      "source": [
        "*Float*"
      ]
    },
    {
      "cell_type": "code",
      "metadata": {
        "colab": {
          "base_uri": "https://localhost:8080/"
        },
        "id": "MjAjT2_NKjqw",
        "outputId": "91a0b5e4-084d-4912-f7ef-dc868306b91d"
      },
      "source": [
        "costo=float(158895.25)\n",
        "print(costo)\n",
        "\n",
        "presupuesto=float(78952114.415)\n",
        "print(presupuesto, type(presupuesto))"
      ],
      "execution_count": null,
      "outputs": [
        {
          "output_type": "stream",
          "text": [
            "158895.25\n",
            "78952114.415 <class 'float'>\n"
          ],
          "name": "stdout"
        }
      ]
    },
    {
      "cell_type": "markdown",
      "metadata": {
        "id": "DozmEB7SLGUw"
      },
      "source": [
        "*Tipo cadena*"
      ]
    },
    {
      "cell_type": "code",
      "metadata": {
        "colab": {
          "base_uri": "https://localhost:8080/"
        },
        "id": "MhtLnGILLKBH",
        "outputId": "06881ec0-4ee7-4e36-c86c-e8ff18a2aa4e"
      },
      "source": [
        "planta=\"suculentas\"\n",
        "especie=\"Graptopetalum Paraguayense\"\n",
        "print(\"Me gustan las\",planta, \"en especial la\",especie)\n",
        "\n",
        "deporte=\"natación\"\n",
        "jornada=\"mañana\"\n",
        "print(\"Las clases de \"+ deporte+ \" estan en el horario de la \"+jornada)"
      ],
      "execution_count": null,
      "outputs": [
        {
          "output_type": "stream",
          "text": [
            "Me gustan las suculentas en especial la Graptopetalum Paraguayense\n",
            "Las clases de natación estan en el horario de la mañana\n"
          ],
          "name": "stdout"
        }
      ]
    },
    {
      "cell_type": "markdown",
      "metadata": {
        "id": "88HEpo2ZMugi"
      },
      "source": [
        "*Tipo Booleano*\n"
      ]
    },
    {
      "cell_type": "code",
      "metadata": {
        "colab": {
          "base_uri": "https://localhost:8080/"
        },
        "id": "yd0fDliMM3Sr",
        "outputId": "9221e925-0f34-4caf-f5c2-390528364954"
      },
      "source": [
        "x=True\n",
        "y=False\n",
        "print(x,type(x))\n",
        "print(y,type(y))"
      ],
      "execution_count": null,
      "outputs": [
        {
          "output_type": "stream",
          "text": [
            "True <class 'bool'>\n",
            "False <class 'bool'>\n"
          ],
          "name": "stdout"
        }
      ]
    },
    {
      "cell_type": "markdown",
      "metadata": {
        "id": "xAfEesbBPESg"
      },
      "source": [
        "*Conjuntos*"
      ]
    },
    {
      "cell_type": "code",
      "metadata": {
        "colab": {
          "base_uri": "https://localhost:8080/"
        },
        "id": "Qxo_whTSPJVC",
        "outputId": "b256cf44-49ae-488f-f77c-e63bf6300fae"
      },
      "source": [
        "tamaño= \"grande\",\"mediano\",\"pequeño\"\n",
        "print(tamaño)\n",
        "\n",
        "electrodomesticos=\"estufa\",\"televisor\",\"ventilador\",\"nevera\"\n",
        "print(electrodomesticos)\n",
        "\n",
        "print(tamaño,electrodomesticos)"
      ],
      "execution_count": null,
      "outputs": [
        {
          "output_type": "stream",
          "text": [
            "('grande', 'mediano', 'pequeño')\n",
            "('estufa', 'televisor', 'ventilador', 'nevera')\n",
            "('grande', 'mediano', 'pequeño') ('estufa', 'televisor', 'ventilador', 'nevera')\n"
          ],
          "name": "stdout"
        }
      ]
    },
    {
      "cell_type": "markdown",
      "metadata": {
        "id": "ICPA6pfsPzHu"
      },
      "source": [
        "*Listas*"
      ]
    },
    {
      "cell_type": "code",
      "metadata": {
        "colab": {
          "base_uri": "https://localhost:8080/"
        },
        "id": "UTid2xXUQMH5",
        "outputId": "a9f0d2ad-c8de-4399-d219-20f1726a7942"
      },
      "source": [
        "info=[\"1\",\"cactus\",\"suculenta\",\"aloe\"]\n",
        "print(info)\n",
        "\n",
        "cosa=[\"mesa\",\"carro\",\"casa\",\"perro\"]\n",
        "cosa1=cosa[3]\n",
        "print(cosa1)"
      ],
      "execution_count": null,
      "outputs": [
        {
          "output_type": "stream",
          "text": [
            "['1', 'cactus', 'suculenta', 'aloe']\n",
            "perro\n"
          ],
          "name": "stdout"
        }
      ]
    },
    {
      "cell_type": "markdown",
      "metadata": {
        "id": "rPJ0J2aHRLPd"
      },
      "source": [
        "*Tuplas*"
      ]
    },
    {
      "cell_type": "code",
      "metadata": {
        "colab": {
          "base_uri": "https://localhost:8080/"
        },
        "id": "ERC7kLD7RNbs",
        "outputId": "251bbaf0-d694-4987-e83d-8f73a1b69fbe"
      },
      "source": [
        "pa=\"arroz\",4,\"papa\"\n",
        "print(pa)\n",
        "\n",
        "ma=pa,(\"verde\",\"amarillo\")\n",
        "print(ma)"
      ],
      "execution_count": null,
      "outputs": [
        {
          "output_type": "stream",
          "text": [
            "('arroz', 4, 'papa')\n",
            "(('arroz', 4, 'papa'), ('verde', 'amarillo'))\n"
          ],
          "name": "stdout"
        }
      ]
    },
    {
      "cell_type": "markdown",
      "metadata": {
        "id": "s_91ZXkKSXOy"
      },
      "source": [
        "*Diccionarios*"
      ]
    },
    {
      "cell_type": "code",
      "metadata": {
        "colab": {
          "base_uri": "https://localhost:8080/"
        },
        "id": "iwDMXV8AShMz",
        "outputId": "d1cb6011-e2e1-4e1c-ebf8-885cac7afdff"
      },
      "source": [
        "plan_vet={\n",
        "    \"codigo\":\"1\",\n",
        "    \"nombre\":\"Bienestar\",\n",
        "    \"precioMensual\":50000,\n",
        "    \"Descripcion\":\"salud básica\"\n",
        "}\n",
        "\n",
        "print(\"Nombre de los campos\",plan_vet.keys())\n",
        "print(\"Datos registrados\",plan_vet.values())\n",
        "print(\"Items\",plan_vet.items())\n",
        "print(\"\\nEl precio del plan Bienestar es de\", plan_vet[\"precioMensual\"])\n",
        "\n",
        "\n",
        "mascota1={}\n",
        "mascota1[\"nombre\"]=\"Nicol\"\n",
        "mascota1[\"raza\"]=\"Criolla\"\n",
        "mascota1[\"edad\"]=\"14 años\"\n",
        "\n",
        "mascota2={}\n",
        "mascota2[\"nombre\"]=\"Venus\"\n",
        "mascota2[\"raza\"]=\"Husky Siberiano\"\n",
        "mascota2[\"edad\"]=\"3 años\"\n",
        "\n",
        "print(mascota2.keys())\n",
        "print(\"\\nLos datos de la mascota 2 son:\",mascota2.values())"
      ],
      "execution_count": null,
      "outputs": [
        {
          "output_type": "stream",
          "text": [
            "Nombre de los campos dict_keys(['codigo', 'nombre', 'precioMensual', 'Descripcion'])\n",
            "Datos registrados dict_values(['1', 'Bienestar', 50000, 'salud básica'])\n",
            "Items dict_items([('codigo', '1'), ('nombre', 'Bienestar'), ('precioMensual', 50000), ('Descripcion', 'salud básica')])\n",
            "\n",
            "El precio del plan Bienestar es de 50000\n",
            "dict_keys(['nombre', 'raza', 'edad'])\n",
            "\n",
            "Los datos de la mascota 2 son: dict_values(['Venus', 'Husky Siberiano', '3 años'])\n"
          ],
          "name": "stdout"
        }
      ]
    }
  ]
}