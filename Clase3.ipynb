{
  "nbformat": 4,
  "nbformat_minor": 0,
  "metadata": {
    "colab": {
      "name": "Clase3.ipynb",
      "provenance": [],
      "authorship_tag": "ABX9TyMwGG9+VuXOiPuIJ1w9i75E",
      "include_colab_link": true
    },
    "kernelspec": {
      "name": "python3",
      "display_name": "Python 3"
    },
    "language_info": {
      "name": "python"
    }
  },
  "cells": [
    {
      "cell_type": "markdown",
      "metadata": {
        "id": "view-in-github",
        "colab_type": "text"
      },
      "source": [
        "<a href=\"https://colab.research.google.com/github/clargote/mujeresDigitales/blob/main/Clase3.ipynb\" target=\"_parent\"><img src=\"https://colab.research.google.com/assets/colab-badge.svg\" alt=\"Open In Colab\"/></a>"
      ]
    },
    {
      "cell_type": "markdown",
      "metadata": {
        "id": "JsKHJH1X3KBJ"
      },
      "source": [
        "**Estructuras de Condicionales (Control)**\n",
        "\n",
        "---\n",
        "Al momento de costruir una instrucción de tipo condicional se deberá comprender que dichas instrucciones estan diseñadas para ayudar en la toma de decisiones.\n",
        "\n",
        "Ejemplo:\n",
        "SI Pedro va a la tienda por la izquierda llegará más rápido, SINO se demorará más.\n",
        "\n",
        "Existen varios tipos de instrucciones, algunos pueden ser simples y otros multiples.\n",
        "Sin embargo, solo se generan dos resultados:\n",
        "1. Verdadero\n",
        "2. Falso\n",
        "\n",
        "En Python tales resultados serían True o False.\n",
        "\n"
      ]
    },
    {
      "cell_type": "markdown",
      "metadata": {
        "id": "YZLxE2RU6Pn9"
      },
      "source": [
        "Para aplicar los condicionales que rveremos a continuación debemos recordar los comandos de operadores matemáticos vistos en la clase anterior:\n",
        "\n",
        "1. Igualdad ( == ) //  2==7//False\n",
        "2. Diferencia ( != )  // rosado = verde // True\n",
        "3. Menor que ( < )  // 12<11 // False\n",
        "4. Mayor que ( > )  // 1>1.5 // False\n",
        "5. Menor o igual que ( <= ) // 30<=30 // True\n",
        "6. Mayor o igual que ( <= ) //1>=2 // False"
      ]
    },
    {
      "cell_type": "markdown",
      "metadata": {
        "id": "eTdpiLXq7Lum"
      },
      "source": [
        "En condiciones múltiples, podemos enlazar los operadores lógicos:\n",
        "1. y ( and )\n",
        "2. o ( or )\n",
        "3. no ( not )\n",
        "\n",
        "Ejemplos:\n",
        "\n",
        "1. 3==8 and 8>12   //False\n",
        "2. 3==3 or 15<3    //True\n",
        "3. not True        //False\n"
      ]
    },
    {
      "cell_type": "markdown",
      "metadata": {
        "id": "WoBLAS8B781T"
      },
      "source": [
        "Para aplicar los operadores matemáticos y lógicos tenemos en cuenta lo que llamamos **Diagramas de flujos**, esto nos permite mayor organización de las ideas para la toma de decisiones."
      ]
    },
    {
      "cell_type": "markdown",
      "metadata": {
        "id": "Db1lJB9F8LRs"
      },
      "source": [
        "**El Comando IF**\n",
        "\n",
        "---\n",
        "\n",
        "Este comando permite evaluar si una sentencia es verdadero o falsa. Es decir, se ejecuta una acción establecida mediante un coido de instruccion o varias instrucciones inmmediatamente en las lineas siguientes a dicha condición."
      ]
    },
    {
      "cell_type": "code",
      "metadata": {
        "colab": {
          "base_uri": "https://localhost:8080/"
        },
        "id": "0v3orL3qBlYn",
        "outputId": "a4038fa9-bf5b-4611-b998-7e12bfcd4e86"
      },
      "source": [
        "num = int(input (\"Escribir un número cualquiera: \"))  # todo lo que ingrese será reconocido como tipo cadena y toca hacer transformación a int\n",
        "if num == 200:\n",
        "  print(\"Escribiste el 200\")\n",
        "else:\n",
        "  print(\"El número escrito NO ES 200\")\n"
      ],
      "execution_count": null,
      "outputs": [
        {
          "output_type": "stream",
          "text": [
            "Escribir un número cualquiera: 200\n",
            "Escribiste el 200\n"
          ],
          "name": "stdout"
        }
      ]
    },
    {
      "cell_type": "markdown",
      "metadata": {
        "id": "GgO2YS39CNyx"
      },
      "source": [
        "**El comando ELSE**\n",
        "\n",
        "---\n",
        "En español es conocido como *\"si no\"* Este comando permite relacionar las acciones que deberia realizar en caso de que la condición sea falsa"
      ]
    },
    {
      "cell_type": "markdown",
      "metadata": {
        "id": "61iwdduDD3SI"
      },
      "source": [
        "**El comando ELIF**\n",
        "\n",
        "---\n",
        "Significa \"sino, si\" y permite concatenar condiciones:"
      ]
    },
    {
      "cell_type": "code",
      "metadata": {
        "colab": {
          "base_uri": "https://localhost:8080/"
        },
        "id": "ap3NoiDRDzEV",
        "outputId": "6c91d935-0cfb-406f-c53d-f5bc78b482f1"
      },
      "source": [
        "num = int(input (\"Escribir un número cualquiera: \"))  # todo lo que ingrese será reconocido como tipo cadena y toca hacer transformación a int\n",
        "if num == 200:\n",
        "  print(\"Escribiste el 200\")\n",
        "elif num>200:\n",
        "    print(\"El número escrito es MAYOR A 200\")\n",
        "else:\n",
        "  print(\"El número escrito NO ES 200\")"
      ],
      "execution_count": null,
      "outputs": [
        {
          "output_type": "stream",
          "text": [
            "Escribir un número cualquiera: 100\n",
            "El número escrito NO ES 200\n"
          ],
          "name": "stdout"
        }
      ]
    },
    {
      "cell_type": "code",
      "metadata": {
        "colab": {
          "base_uri": "https://localhost:8080/"
        },
        "id": "R9WqITQ_F_4j",
        "outputId": "49695068-1cd4-4923-b179-da247d7c5251"
      },
      "source": [
        "num = int(input (\"Escribir un número cualquiera: \"))  # todo lo que ingrese será reconocido como tipo cadena y toca hacer transformación a int\n",
        "if num == 200:\n",
        "  print(\"Escribiste el 200\")\n",
        "if num>200:\n",
        "    print(\"El número escrito es MAYOR A 200\")\n",
        "else:\n",
        "  print(\"El número escrito NO ES 200\")\n"
      ],
      "execution_count": null,
      "outputs": [
        {
          "output_type": "stream",
          "text": [
            "Escribir un número cualquiera: 250\n",
            "El número escrito es MAYOR A 200\n"
          ],
          "name": "stdout"
        }
      ]
    },
    {
      "cell_type": "markdown",
      "metadata": {
        "id": "-IlKkpyWHf_U"
      },
      "source": [
        "**Condicionales Múltiples**\n",
        "\n",
        "---\n",
        "Cuando se presentan situaciones con más de una condición que dependen unas de otras, estas se pueden tratar mediante el manejo de varias sentencias o comandos *if*, o mediante el manejo adecuado del comando *elif*.\n",
        "Sin embargo en muchos casos cuando hay  multiples condiciones, la programación necesita mayor cantidad de líneas de código.\n",
        "\n",
        "En esos casos es necesario el uso de operadores lógicos como el AND y el OR\n"
      ]
    },
    {
      "cell_type": "code",
      "metadata": {
        "colab": {
          "base_uri": "https://localhost:8080/"
        },
        "id": "7suvZBdzII59",
        "outputId": "2f23a736-c99e-4239-eee7-356932d25bcf"
      },
      "source": [
        "#Codificación anidada\n",
        "\n",
        "x=int(input(\"Ingrese el número: \"))\n",
        "if 0<x:\n",
        "  if x<10:\n",
        "    print(\"x es un número positivo\")\n",
        "\n"
      ],
      "execution_count": null,
      "outputs": [
        {
          "output_type": "stream",
          "text": [
            "Ingrese el número: 3\n",
            "x es un número positivo\n"
          ],
          "name": "stdout"
        }
      ]
    },
    {
      "cell_type": "code",
      "metadata": {
        "colab": {
          "base_uri": "https://localhost:8080/"
        },
        "id": "Nn-2FhrQKCnN",
        "outputId": "19788c3b-0930-41fa-8c2d-5f18f4506d60"
      },
      "source": [
        "#Expresión booleana\n",
        "\n",
        "x=int(input(\"Ingrese el número: \"))\n",
        "if 0<x and x<10:\n",
        "  print(\"x es un número de un solo dígito\")"
      ],
      "execution_count": null,
      "outputs": [
        {
          "output_type": "stream",
          "text": [
            "Ingrese el número: 5\n",
            "x es un número de un solo dígito\n"
          ],
          "name": "stdout"
        }
      ]
    },
    {
      "cell_type": "code",
      "metadata": {
        "colab": {
          "base_uri": "https://localhost:8080/"
        },
        "id": "50ZO6rR8KXpw",
        "outputId": "b2053ade-a425-4c78-a7d5-f27bbd8064c1"
      },
      "source": [
        "x=int(input(\"Ingrese el número: \"))\n",
        "if 0<x<10:\n",
        "  print(\"x es un número de un solo dígito\")"
      ],
      "execution_count": null,
      "outputs": [
        {
          "output_type": "stream",
          "text": [
            "Ingrese el número: 3\n",
            "x es un número de un solo dígito\n"
          ],
          "name": "stdout"
        }
      ]
    },
    {
      "cell_type": "markdown",
      "metadata": {
        "id": "BCq-76HRKuHA"
      },
      "source": [
        "Esta condición es la misma expresión booleana compuesta y la misma expresión condicional anidada."
      ]
    },
    {
      "cell_type": "markdown",
      "metadata": {
        "id": "TGAbunbWM8Fg"
      },
      "source": [
        "**Estructuras de control iterativas**\n",
        "\n",
        "---\n",
        "Las variables son claves en las estructuras de control iterativas, puesto que son el medio entre la iteración y la condición que se esta ejecutando.\n",
        "\n",
        "**¿Qué es iteración?**\n",
        "Iteración es la consecución del código tantas veces requiera hasta que se cumplan las condiciones estableciadas.\n",
        "\n",
        "*Banderas*\n",
        "Son las variables que toman un valor preferiblemente binario, booleano e indican un estado.\n",
        "Ejemplo:\n"
      ]
    },
    {
      "cell_type": "code",
      "metadata": {
        "colab": {
          "base_uri": "https://localhost:8080/"
        },
        "id": "LXy0YxN3M5TT",
        "outputId": "2a218584-3dfa-47ac-95a0-4d51db569de8"
      },
      "source": [
        "suma=False\n",
        "total=0\n",
        "a=3\n",
        "b=10\n",
        "\n",
        "if (suma==False):\n",
        "  total=a+b\n",
        "  suma=True\n",
        "\n",
        "if (suma==True):\n",
        "    print(\"El valor total de la suna es: \", total)"
      ],
      "execution_count": null,
      "outputs": [
        {
          "output_type": "stream",
          "text": [
            "El valor total de la suna es:  13\n"
          ],
          "name": "stdout"
        }
      ]
    },
    {
      "cell_type": "markdown",
      "metadata": {
        "id": "C5lZiRZIPjtU"
      },
      "source": [
        "La variable suma en este caso de tipo booleano y su función es indicar cuando se ejecutó la suma. Por lo tanto tienen un estado inicial \"*False*\", pero luego de ejecutar la suma, toma el valor *True*.\n",
        "Cuando pasa esto escuchamos la frase \"la bandera se levantó\". Esto quiere decir que una u otra acción hizo que el estado de la bandera cambiara.\n",
        "\n",
        "\n",
        "Ejemplo cualitativo: **CASO CONTAGIO**\n",
        "\n"
      ]
    },
    {
      "cell_type": "code",
      "metadata": {
        "colab": {
          "base_uri": "https://localhost:8080/"
        },
        "id": "d2KIJqEEQcsW",
        "outputId": "081bd635-cb87-4ad2-e9da-74a4ec4bcfcc"
      },
      "source": [
        "contagio_v=\"No\"\n",
        "paciente=\"Adriana\"\n",
        "if (contagio_v==\"No\"):\n",
        "  print(\"La paciente\", paciente, \"no se ha realizado la prueba para validar, por favor realizarse la prueba en el centro de salud más cercano\")\n",
        "  print(\"Aplicarse la prueba\")\n",
        "  contagio_v=\"Pendiente\"\n",
        "\n",
        "if (contagio_v==\"Pendiente\"):\n",
        "  print(paciente,\"por favor revisar el correo donde se le adjuntó el resultado de la prueba\")\n",
        "  contagio_v=\"Si\"\n",
        "\n",
        "if (contagio_v==\"Si\"):\n",
        "  print(paciente, \"dado que es positivo el resultado de su prueba, mantener una distancia de las personas por lo menos 15 días\" )"
      ],
      "execution_count": null,
      "outputs": [
        {
          "output_type": "stream",
          "text": [
            "La paciente Adriana no se ha realizado la prueba para validar, por favor realizarse la prueba en el centro de salud más cercano\n",
            "Aplicarse la prueba\n",
            "Adriana por favor revisar el correo donde se le adjuntó el resultado de la prueba\n",
            "Adriana dado que es positivo el resultado de su prueba, mantener una distancia de las personas por lo menos 15 días\n"
          ],
          "name": "stdout"
        }
      ]
    },
    {
      "cell_type": "markdown",
      "metadata": {
        "id": "-s7qqaP0TERa"
      },
      "source": [
        ""
      ]
    },
    {
      "cell_type": "code",
      "metadata": {
        "colab": {
          "base_uri": "https://localhost:8080/"
        },
        "id": "gU3XS0d2SsGJ",
        "outputId": "9bebb884-9a44-4562-bf7e-aa319ecad4f4"
      },
      "source": [
        "paciente=input(\"nombre del paciente: \")\n",
        "contagio_v=input(\"¿Te has realizado la prueba de contagio? \")\n",
        "\n",
        "\n",
        "if (contagio_v==\"No\"):\n",
        "  print(\"La paciente\", paciente, \"no se ha realizado la prueba para validar, por favor realizarse la prueba en el centro de salud más cercano\")\n",
        "  print(\"Aplicarse la prueba\")\n",
        "  contagio_v=\"Pendiente\"\n",
        "\n",
        "if (contagio_v==\"Pendiente\"):\n",
        "  print(paciente,\"por favor revisar el correo donde se le adjuntó el resultado de la prueba\")\n",
        "  contagio_v=\"Si\"\n",
        "\n",
        "if (contagio_v==\"Si\"):\n",
        "  print(paciente, \"dado que es positivo el resultado de su prueba, mantener una distancia de las personas por lo menos 15 días\" )"
      ],
      "execution_count": null,
      "outputs": [
        {
          "output_type": "stream",
          "text": [
            "nombre del paciente: lorena\n",
            "¿Te has realizado la prueba de contagio? No\n",
            "La paciente lorena no se ha realizado la prueba para validar, por favor realizarse la prueba en el centro de salud más cercano\n",
            "Aplicarse la prueba\n",
            "lorena por favor revisar el correo donde se le adjuntó el resultado de la prueba\n",
            "lorena dado que es positivo el resultado de su prueba, mantener una distancia de las personas por lo menos 15 días\n"
          ],
          "name": "stdout"
        }
      ]
    },
    {
      "cell_type": "markdown",
      "metadata": {
        "id": "30luUlTcTvgs"
      },
      "source": [
        "**Ejercicio**\n",
        "\n",
        "---\n",
        "El Bootcamp comenzó el 26 de Julio de 2021, se les explicó a las estudiantes que se les evaluaría de la siguiente forma:\n",
        "#\n",
        "Tareas=10%\n",
        "Talleres=25%\n",
        "Asistencia=5%\n",
        "Participación=15%\n",
        "Proyecto=45%\n",
        "\n",
        "Teniendo en cuenta las ponderaciones de calificación del Bootcamp las estudiantes desarrollar un programa que les permita saber cuanto tendría que sacar en el proyecto para tener una definitiva de 3.7 minimo si las notas que lleva hasta el momento son las siguientes:\n",
        "\n",
        "Tareas=4.5\n",
        "Talleres=4\n",
        "Asistencia=5\n",
        "Participacion=4\n",
        "\n",
        "¿Cuánto tendrian que sacar en el proyecto?\n"
      ]
    },
    {
      "cell_type": "code",
      "metadata": {
        "colab": {
          "base_uri": "https://localhost:8080/"
        },
        "id": "ydT-i40xVCsF",
        "outputId": "5091edd8-135b-48ca-c169-7f4f4f8ed06f"
      },
      "source": [
        "#Declaración de variables (notas)\n",
        "\n",
        "notaFinalMinima=3.7\n",
        "notaTareas=4.5 \n",
        "notaTalleres=4 \n",
        "notaAsistencia=5 \n",
        "notaParticipacion=4\n",
        "\n",
        "#Proceso la nota del final = Σ(nota*porcentaje)\n",
        "\n",
        "notaFaltante = notaFinalMinima - (notaTareas*0.1 + notaTalleres*0.25 + notaAsistencia*0.05 + notaParticipacion*0.15)\n",
        "notaProyecto = notaFaltante/0.45\n",
        "\n",
        "#Resultado\n",
        "print(\"Para tener una nota definitiva de minimo\", notaFinalMinima,\"los estudiantes deben obtener en el proyecto una nota de\",round(notaProyecto,1))\n",
        "\n",
        "validacion = notaTareas*0.1 + notaTalleres*0.25 + notaAsistencia*0.05 + notaParticipacion*0.15 + notaProyecto*0.45\n",
        "print(\"\\nComprobando la sumatoria de las notas por su porcentaje se obtiene que la nota minima es de:\",validacion)"
      ],
      "execution_count": null,
      "outputs": [
        {
          "output_type": "stream",
          "text": [
            "Para tener una nota definitiva de minimo 3.7 los estudiantes deben obtener en el proyecto una nota de 3.1\n",
            "\n",
            "Comprobando la sumatoria de las notas por su porcentaje se obtiene que la nota minima es de: 3.7\n"
          ],
          "name": "stdout"
        }
      ]
    },
    {
      "cell_type": "markdown",
      "metadata": {
        "id": "AGoIonZGHjWl"
      },
      "source": [
        "**2.**\n",
        "\n",
        "La empresa VIVAFLY tiene como eslogan: \"Satisfacción y plenitud en un solo viaje\". Por lo cual, uno de los medios que utiliza VIVAFLY para mantener la satisfacción al cliente, es realizar rifas a lo largo del año para fomentar mayor unión y entendimiento. Para el mes de septiembre, por motivos de celebración de Amor y Amistad, la empresa decide sortear los siguientes viajes a los 5 clientes con más antigüedad:\n",
        "\n",
        "1. Viaje todo incluído para dos personas a San Andrés(Premio 1)\n",
        "2. un pasadía a los termales de San Vicente incluyendo almuerzo (Premio 2)\n",
        "3. Viaje todo incluido para dos personas a Santa Marta (Premio 3)\n",
        "4. Pasadía al desierto de Tatacoa (Sin incluír alimentación) (Premio 4)\n",
        "\n",
        "\n",
        "La empresa utilizará para el sorteo el método de balotera. A continuación se menciona el color ganador por premio:\n",
        "\n",
        "*   Rosado= Premio 1 \n",
        "*   Verde=Premio 2\n",
        "*   Azul=Premio 3\n",
        "*   Gris=Premio 4\n",
        "*   Roja=No hay premio\n",
        "\n",
        "La probabilidad de sacar una balota rosada es del 15%, verde 20%, azul 5%, gris 20% y roja 40%.\n",
        "\n",
        "Adicionalmente, para las personas que SI obtengan premio, recibirán un bono en efectivo del porcentaje que represente la probabilidad de ganar con cada balota sobre un valor de 1.000.000 pesos. Sin embargo, se debe tener en cuenta que, Si al aplicar el porcentaje arroja un valor inferior a 120.000, no se les dará el bono en efectivo sino dos boletas de cine 4D para la película en estreno del mes incluyendo un solo combo de palomitas.Por otro lado, para la persona que saque balota roja obtendrá un premio de 120.000 pesos.\n",
        "\n",
        "**Nota:** El sorteo se realiza con el método de NO reemplazo. Es decir, la probabilidad de sacar cada una de las balotas es la misma para los 5 clientes. Porque a medida que vayan sacando las balotas ganadoras estás se regresan a la balotera y se mantendrá la misma cantidad de balotas.\n",
        "\n",
        "Teniendo en cuenta lo anterior.Se le pide a la analista que genere un código donde se pueda observar las respectivas premiaciones.\n",
        "\n",
        "*las entradas deben ser las siguientes:*\n",
        "\n",
        "*   Nombre de la concursante\n",
        "*   Color de balota\n",
        "\n",
        "*Salida:*\n",
        "\n",
        "Premio\n",
        "\n",
        "Enunciado de salida: \"La empresa VIVAFLY se complace en anunciar que La participante _ ganó _ en nuestro sorteo de viajes de AMOR y AMISTAD\"\n",
        "\n",
        "Ejemplo: \"La empresa VIVAFLY se complace en anunciar que La participante ANA ganó un pasadía a los termales de San Vicente en nuestro sorteo de viajes de AMOR y AMISTAD\""
      ]
    },
    {
      "cell_type": "code",
      "metadata": {
        "id": "dVFb9gNfUbsZ",
        "colab": {
          "base_uri": "https://localhost:8080/"
        },
        "outputId": "bea8a005-767b-402c-91cd-95d7643cff22"
      },
      "source": [
        "print(\"---------------------------------------------------------------------------------\")\n",
        "print(\"|                                    VIVAFLY                                    |\")\n",
        "print(\"|                 Satisfacción y plenitud en un solo viaje                      |\")\n",
        "print(\"---------------------------------------------------------------------------------\")\n",
        "print(\"\\n\")\n",
        "\n",
        "\n",
        "nombreParticipante=(input(\"Ingrese el nombre del concursante: \")).upper()  #convertir el valor ingresado en mayúscula\n",
        "colorBalota=(input(\"Ingrese el color de la balota: \")).lower()  #convertir el valor ingresado en minúscula\n",
        "\n",
        "if colorBalota ==\"rosado\":\n",
        "  premio =\" un viaje todo incluído para dos personas a San Andrés\"\n",
        "  probabilidad=0.15\n",
        "\n",
        "elif colorBalota == \"verde\":\n",
        "  premio =\"un pasadía a los termales de San Vicente incluyendo almuerzo \"\n",
        "  probabilidad=0.20\n",
        "\n",
        "elif colorBalota == \"azul\":\n",
        "  premio =\"un viaje todo incluido para dos personas a Santa Marta\"\n",
        "  probabilidad=0.05\n",
        "\n",
        "elif colorBalota == \"gris\":\n",
        "  premio = \"una pasadía al desierto de Tatacoa (Sin incluír alimentación)\"\n",
        "  probabilidad=0.20\n",
        "\n",
        "elif colorBalota == \"roja\":\n",
        "  premio = \"No hay premio\"\n",
        "  probabilidad=0.40\n",
        "\n",
        "else:\n",
        "  print(\"¡¡¡¡Ingrese nuevamente un color correcto!!!!\")\n",
        "\n",
        "\n",
        "\n",
        "if colorBalota==\"rosado\" or colorBalota==\"verde\" or colorBalota==\"azul\" or colorBalota==\"gris\":\n",
        "    bono=1000000*probabilidad\n",
        "    if bono<=120000:\n",
        "      bono= \"2 Boletas de cine 4D para la película en estreno del mes incluyendo un solo combo de palomitas\"\n",
        "      print(\"\\nLa empresa VIVAFLY se complace en anunciar que:\",\"\\nLa participante\", nombreParticipante, \"ganó\", premio, \"en nuestro sorteo de viajes de AMOR y AMISTAD\", \n",
        "            \"\\nadicional ganó\",bono)\n",
        "    else:\n",
        "      bono=bono\n",
        "      print(\"\\nLa empresa VIVAFLY se complace en anunciar que:\",\"\\nLa participante\", nombreParticipante, \"ganó\", premio, \"en nuestro sorteo de viajes de AMOR y AMISTAD\", \n",
        "            \"\\nadicional ganó un bono de\",int(bono))\n",
        "\n",
        "elif colorBalota == \"roja\":\n",
        "    bono=120000\n",
        "    print(\"\\nLa empresa VIVAFLY se complace en anunciar que:\",\"\\nLa participante\", nombreParticipante, \"no ganó un premio en nuestro sorteo de viajes de AMOR y AMISTAD\", \n",
        "            \"\\nSin embargó ganó un bono de\",int(bono))\n",
        "\n"
      ],
      "execution_count": null,
      "outputs": [
        {
          "output_type": "stream",
          "text": [
            "---------------------------------------------------------------------------------\n",
            "|                                    VIVAFLY                                    |\n",
            "|                 Satisfacción y plenitud en un solo viaje                      |\n",
            "---------------------------------------------------------------------------------\n",
            "\n",
            "\n",
            "Ingrese el nombre del concursante: roja\n",
            "Ingrese el color de la balota: roja\n",
            "\n",
            "La empresa VIVAFLY se complace en anunciar que: \n",
            "La participante ROJA no ganó un premio en nuestro sorteo de viajes de AMOR y AMISTAD \n",
            "Sin embargó ganó un bono de 120000\n"
          ],
          "name": "stdout"
        }
      ]
    }
  ]
}