{
  "nbformat": 4,
  "nbformat_minor": 0,
  "metadata": {
    "colab": {
      "name": "TareaClase2.ipynb",
      "provenance": [],
      "authorship_tag": "ABX9TyNCwMun15P77U7bKxaTVdOq",
      "include_colab_link": true
    },
    "kernelspec": {
      "name": "python3",
      "display_name": "Python 3"
    },
    "language_info": {
      "name": "python"
    }
  },
  "cells": [
    {
      "cell_type": "markdown",
      "metadata": {
        "id": "view-in-github",
        "colab_type": "text"
      },
      "source": [
        "<a href=\"https://colab.research.google.com/github/clargote/mujeresDigitales/blob/main/TareaClase2.ipynb\" target=\"_parent\"><img src=\"https://colab.research.google.com/assets/colab-badge.svg\" alt=\"Open In Colab\"/></a>"
      ]
    },
    {
      "cell_type": "markdown",
      "metadata": {
        "id": "K_OwNDYCIXUX"
      },
      "source": [
        "**Ejercicio 1**\n",
        "\n",
        "420*100/(20-10+50) \n",
        "\n",
        "\n",
        "---\n",
        "\n",
        "1. Se realiza la operación en paréntesis (el orden de las operaciones es de izquierda a derecha, por lo tanto primero se realiza la resta y posterior la suma)\n",
        "> 420*100/(10+50)\n",
        "\n",
        "  > 420*100/(60)\n",
        "\n",
        "\n",
        "2. Se realiza la multiplicación \n",
        "> 42000/60\n",
        "\n",
        "3. Se realiza la división\n",
        ">700\n",
        "\n"
      ]
    },
    {
      "cell_type": "code",
      "metadata": {
        "colab": {
          "base_uri": "https://localhost:8080/"
        },
        "id": "_hjX2FSZVxlR",
        "outputId": "141c9a44-548a-43da-9792-4ffa43f4d56d"
      },
      "source": [
        "print(420*100/(20-10+50))"
      ],
      "execution_count": null,
      "outputs": [
        {
          "output_type": "stream",
          "text": [
            "700.0\n"
          ],
          "name": "stdout"
        }
      ]
    },
    {
      "cell_type": "markdown",
      "metadata": {
        "id": "hpHC4kq1ZAPH"
      },
      "source": [
        "**Ejercicio 2**\n",
        "\n",
        "(7+1)∗∗(5−2)%5=\n",
        "\n",
        "---\n",
        "1. Se realiza las operaciones en paréntesis \n",
        "> (8)**(3)%5\n",
        "\n",
        "2. Se realiza la potenciación\n",
        ">512%5\n",
        "\n",
        "3. Se calcula el modulo\n",
        ">2\n"
      ]
    },
    {
      "cell_type": "code",
      "metadata": {
        "colab": {
          "base_uri": "https://localhost:8080/"
        },
        "id": "-9s8AJPdaCRN",
        "outputId": "91f9b453-c171-4908-ba8b-0e310edc9271"
      },
      "source": [
        "print((7+1)**(5-2)%5)"
      ],
      "execution_count": null,
      "outputs": [
        {
          "output_type": "stream",
          "text": [
            "2\n"
          ],
          "name": "stdout"
        }
      ]
    },
    {
      "cell_type": "markdown",
      "metadata": {
        "id": "pFgjyXKnTDWY"
      },
      "source": [
        "**Ejercicio 3**\n",
        "\n",
        "---\n",
        "c=True\n",
        "\n",
        "d=False\n",
        "\n",
        "a=True\n",
        "\n",
        "c or d and not(a) or a and c \n",
        "\n",
        "True or False and not(True) or True and True   *Se realiza el parentésis y el operador NOT*\n",
        "\n",
        "True or False and false or True and True  *Se realiza el operador AND*\n",
        "\n",
        "True or False or True *Se realiza el operador OR desde la izquierda*\n",
        "\n",
        "True or True   *Se realiza el operador OR*\n",
        "\n",
        "True\n",
        "\n",
        "\n"
      ]
    },
    {
      "cell_type": "code",
      "metadata": {
        "colab": {
          "base_uri": "https://localhost:8080/"
        },
        "id": "tdtnljwcc66S",
        "outputId": "908fc7e7-c090-441e-a556-5e6f388d8ab8"
      },
      "source": [
        "c=True\n",
        "d=False\n",
        "e=True\n",
        "c or d and not(a) or a and c"
      ],
      "execution_count": null,
      "outputs": [
        {
          "output_type": "execute_result",
          "data": {
            "text/plain": [
              "True"
            ]
          },
          "metadata": {
            "tags": []
          },
          "execution_count": 21
        }
      ]
    },
    {
      "cell_type": "markdown",
      "metadata": {
        "id": "D-ZqkjZjbNBZ"
      },
      "source": [
        "**Ejercicio 4**\n",
        "\n",
        "---\n",
        "a=5\n",
        "\n",
        "b=10\n",
        "\n",
        "c=15\n",
        "\n",
        "((a > b) or (a < c)) and ((a == c) or (a>=b))      *Se calculan los parentesis interno*\n",
        "\n",
        "  (False or True) and (False or False))    *Se calculan los parentesis mas externos con operador OR*\n",
        "\n",
        "  (True) and (False)  *Se calcula operador AND*\n",
        "  \n",
        "   False"
      ]
    },
    {
      "cell_type": "code",
      "metadata": {
        "colab": {
          "base_uri": "https://localhost:8080/"
        },
        "id": "QUbcm0w1coeH",
        "outputId": "f5dd8d0f-8713-4605-c258-e37fef7f1ed5"
      },
      "source": [
        "a=5\n",
        "b=10\n",
        "c=15\n",
        "print(((a>b) or (a<c)) and ((a==c) or (a>=b)))"
      ],
      "execution_count": null,
      "outputs": [
        {
          "output_type": "stream",
          "text": [
            "False\n"
          ],
          "name": "stdout"
        }
      ]
    },
    {
      "cell_type": "markdown",
      "metadata": {
        "id": "EmKM9LvNghA5"
      },
      "source": [
        "**Ejercicio 5**\n",
        "\n",
        "---\n",
        "((2>=2) or not (4<12)) and ((5<6) and (8<=10) *calcula los paréntesis internos*\n",
        "\n",
        " ((True) or not (True)) and ((True) and (True)) *Calcula la negacion de True*\n",
        "\n",
        " (True or False) and (True and True) *Calcula paréntesis*\n",
        "\n",
        " (True) and (True)  *Calcula operador AND*\n",
        "\n",
        "True \n",
        "\n"
      ]
    },
    {
      "cell_type": "code",
      "metadata": {
        "colab": {
          "base_uri": "https://localhost:8080/"
        },
        "id": "3IsG1v8ahCu5",
        "outputId": "adda8aca-ca15-456c-a6e4-b11a2fd8189a"
      },
      "source": [
        "((2>=2) or not (4<12)) and ((5<6) and (8<=10))"
      ],
      "execution_count": null,
      "outputs": [
        {
          "output_type": "execute_result",
          "data": {
            "text/plain": [
              "True"
            ]
          },
          "metadata": {
            "tags": []
          },
          "execution_count": 19
        }
      ]
    }
  ]
}