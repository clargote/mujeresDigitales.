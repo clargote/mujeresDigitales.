{
  "nbformat": 4,
  "nbformat_minor": 0,
  "metadata": {
    "colab": {
      "name": "Clase2.ipynb",
      "provenance": [],
      "toc_visible": true,
      "authorship_tag": "ABX9TyMy+WCvthzfMxE8Ot2v4aaB",
      "include_colab_link": true
    },
    "kernelspec": {
      "name": "python3",
      "display_name": "Python 3"
    },
    "language_info": {
      "name": "python"
    }
  },
  "cells": [
    {
      "cell_type": "markdown",
      "metadata": {
        "id": "view-in-github",
        "colab_type": "text"
      },
      "source": [
        "<a href=\"https://colab.research.google.com/github/clargote/mujeresDigitales/blob/main/Clase2.ipynb\" target=\"_parent\"><img src=\"https://colab.research.google.com/assets/colab-badge.svg\" alt=\"Open In Colab\"/></a>"
      ]
    },
    {
      "cell_type": "markdown",
      "metadata": {
        "id": "4YRwXOP4u_BQ"
      },
      "source": [
        "**OPERADORES ARITMÉTICOS**\n",
        "\n",
        "---\n",
        "Los operadores permiten realizar diferentes procesos de cálculo en cualquier lenguaje de programación.\n",
        "\n",
        "Lois operadores más básicos:\n",
        "1. Suma\n",
        "2. Resta\n",
        "3. Multiplicación\n",
        "4. División\n"
      ]
    },
    {
      "cell_type": "markdown",
      "metadata": {
        "id": "v4r5N1hkvtJW"
      },
      "source": [
        "**Suma y Resta**\n",
        "\n",
        "---\n",
        "Símbolo suma ( + ) el cual se utilizará en medio de la declaración de las variables a operar.\n",
        "\n",
        "Símbolo resta ( - )"
      ]
    },
    {
      "cell_type": "code",
      "metadata": {
        "colab": {
          "base_uri": "https://localhost:8080/"
        },
        "id": "3SRNUmQTsHVk",
        "outputId": "d218cd43-e9fc-46e6-fc01-12fdb5c35504"
      },
      "source": [
        "print(10+300)\n",
        "\n",
        "a=20\n",
        "b=35\n",
        "print(a+b)\n",
        "\n",
        "print(10-300)\n",
        "\n",
        "a=20\n",
        "b=35\n",
        "print(a-b)\n"
      ],
      "execution_count": null,
      "outputs": [
        {
          "output_type": "stream",
          "text": [
            "310\n",
            "55\n",
            "-290\n",
            "-15\n"
          ],
          "name": "stdout"
        }
      ]
    },
    {
      "cell_type": "code",
      "metadata": {
        "colab": {
          "base_uri": "https://localhost:8080/"
        },
        "id": "9NfQWwlKwoZw",
        "outputId": "b755fff2-30d6-461d-e646-6362b5050bf8"
      },
      "source": [
        "numero_botellas=12\n",
        "print(numero_botellas + 8)\n",
        "\n",
        "numero_botellas=12\n",
        "numero_botellas=numero_botellas+8 # interna\n",
        "print(numero_botellas)"
      ],
      "execution_count": null,
      "outputs": [
        {
          "output_type": "stream",
          "text": [
            "20\n",
            "20\n"
          ],
          "name": "stdout"
        }
      ]
    },
    {
      "cell_type": "markdown",
      "metadata": {
        "id": "jsCcThJOxT5E"
      },
      "source": [
        "**Sumas entre los diferentes tipos de variables**\n",
        "\n",
        "Recordemos los tipos de variables vistos en la clase ayer:\n",
        "\n",
        "1. Declaración de variables numéricas enteras\n",
        "2. Flotantes (incorpora y flexibiliza los decimales)\n",
        "3. Tipo cadena\n"
      ]
    },
    {
      "cell_type": "code",
      "metadata": {
        "colab": {
          "base_uri": "https://localhost:8080/"
        },
        "id": "acot_q--xTBo",
        "outputId": "5306b102-508f-42a4-8030-37960de6a9f0"
      },
      "source": [
        "q1=100\n",
        "q2=24.5\n",
        "print(type(q1))\n",
        "print(type(q2))\n",
        "print(type(q1+q2)) # entre un entero y un flotante el resultado es un valor flotante"
      ],
      "execution_count": null,
      "outputs": [
        {
          "output_type": "stream",
          "text": [
            "<class 'int'>\n",
            "<class 'float'>\n",
            "<class 'float'>\n"
          ],
          "name": "stdout"
        }
      ]
    },
    {
      "cell_type": "code",
      "metadata": {
        "colab": {
          "base_uri": "https://localhost:8080/"
        },
        "id": "ez_SXSPlyIsV",
        "outputId": "ce075865-bad7-498d-c440-08c54cc687a3"
      },
      "source": [
        "v1=\"quiero\"\n",
        "v2=\"un celular\"\n",
        "print(v1+v2) # se juntan los valores \n",
        "\n",
        "v1=\"quiero \"\n",
        "v2=\"un celular\"\n",
        "print(v1+v2) # se dejan un espacio en v1 al final\n",
        "\n",
        "v1=\"quiero\"\n",
        "v2=\"un celular\"\n",
        "v3= v1+ \" \"+v2\n",
        "print(v3) # se crea una nueva variable\n",
        "\n",
        "v1=\"quiero\"\n",
        "v2=\"un celular\"\n",
        "print(v1,v2) # se usa la coma para separar y ya deja un espacio"
      ],
      "execution_count": null,
      "outputs": [
        {
          "output_type": "stream",
          "text": [
            "quieroun celular\n",
            "quiero un celular\n",
            "quiero un celular\n",
            "quiero un celular\n"
          ],
          "name": "stdout"
        }
      ]
    },
    {
      "cell_type": "code",
      "metadata": {
        "colab": {
          "base_uri": "https://localhost:8080/"
        },
        "id": "0zv1iWr6yrj3",
        "outputId": "72c16d48-c397-4ccf-ed86-531e87cb8ba6"
      },
      "source": [
        "xq2=235\n",
        "xq3=400\n",
        "print(xq2-xq3) # resultado es un entero negativo\n",
        "\n",
        "xq2=235\n",
        "xq3=400\n",
        "print(int(xq2-xq3)) # no hay problema declararla como entero, porque este incluye los numeros negativos\n",
        "\n",
        "xq2=24.66\n",
        "xq3=4\n",
        "print(type(xq2-xq3)) # La resta entre un valor flotante y uno entero da como resultado un valor tipo float"
      ],
      "execution_count": null,
      "outputs": [
        {
          "output_type": "stream",
          "text": [
            "-165\n",
            "-165\n",
            "<class 'float'>\n"
          ],
          "name": "stdout"
        }
      ]
    },
    {
      "cell_type": "code",
      "metadata": {
        "id": "BzxHjSANzYOP"
      },
      "source": [
        "**Importante**\n",
        "La resta NO funciona directamente para variables tipo cadena (ejemplo de error)"
      ],
      "execution_count": null,
      "outputs": []
    },
    {
      "cell_type": "code",
      "metadata": {
        "colab": {
          "base_uri": "https://localhost:8080/",
          "height": 198
        },
        "id": "-AuzjF-EzyVq",
        "outputId": "44ad5a11-99d2-4354-d442-85824d30dc5b"
      },
      "source": [
        "v1=\"quiero\"\n",
        "v2=\"un celular\"\n",
        "print(v1-v2) # ERROR No se puede hacer operacion de resta en variables tipo cadena"
      ],
      "execution_count": null,
      "outputs": [
        {
          "output_type": "error",
          "ename": "TypeError",
          "evalue": "ignored",
          "traceback": [
            "\u001b[0;31m---------------------------------------------------------------------------\u001b[0m",
            "\u001b[0;31mTypeError\u001b[0m                                 Traceback (most recent call last)",
            "\u001b[0;32m<ipython-input-18-2cb9b6427c3f>\u001b[0m in \u001b[0;36m<module>\u001b[0;34m()\u001b[0m\n\u001b[1;32m      1\u001b[0m \u001b[0mv1\u001b[0m\u001b[0;34m=\u001b[0m\u001b[0;34m\"quiero\"\u001b[0m\u001b[0;34m\u001b[0m\u001b[0;34m\u001b[0m\u001b[0m\n\u001b[1;32m      2\u001b[0m \u001b[0mv2\u001b[0m\u001b[0;34m=\u001b[0m\u001b[0;34m\"un celular\"\u001b[0m\u001b[0;34m\u001b[0m\u001b[0;34m\u001b[0m\u001b[0m\n\u001b[0;32m----> 3\u001b[0;31m \u001b[0mprint\u001b[0m\u001b[0;34m(\u001b[0m\u001b[0mv1\u001b[0m\u001b[0;34m-\u001b[0m\u001b[0mv2\u001b[0m\u001b[0;34m)\u001b[0m \u001b[0;31m# se juntan los valores\u001b[0m\u001b[0;34m\u001b[0m\u001b[0;34m\u001b[0m\u001b[0m\n\u001b[0m",
            "\u001b[0;31mTypeError\u001b[0m: unsupported operand type(s) for -: 'str' and 'str'"
          ]
        }
      ]
    },
    {
      "cell_type": "code",
      "metadata": {
        "colab": {
          "base_uri": "https://localhost:8080/"
        },
        "id": "DVZTjBor0JPV",
        "outputId": "7095c614-6823-44e5-b597-19db15f2896e"
      },
      "source": [
        "v1=\"5\"\n",
        "v2=\"3\"\n",
        "print(int(v1)-int(v2)) "
      ],
      "execution_count": null,
      "outputs": [
        {
          "output_type": "stream",
          "text": [
            "2\n"
          ],
          "name": "stdout"
        }
      ]
    },
    {
      "cell_type": "markdown",
      "metadata": {
        "id": "7ghYnr0az_q3"
      },
      "source": [
        "**Multiplicación**\n",
        "\n",
        "---\n",
        "Definamos la multiplicación como la suma de varias veces un número, cantidad de veces indicacas por el otro número. Ejemplo 4*2 =8 es la suma de 4+4 =8\n",
        "El símbolo que se manejaría es el astérisco ( * )\n"
      ]
    },
    {
      "cell_type": "code",
      "metadata": {
        "colab": {
          "base_uri": "https://localhost:8080/"
        },
        "id": "WWoE0QFe08xN",
        "outputId": "add936e7-2080-44ca-c615-24e9cfe43232"
      },
      "source": [
        "cali=5\n",
        "palmira=6\n",
        "print(cali*palmira)"
      ],
      "execution_count": null,
      "outputs": [
        {
          "output_type": "stream",
          "text": [
            "30\n"
          ],
          "name": "stdout"
        }
      ]
    },
    {
      "cell_type": "markdown",
      "metadata": {
        "id": "kZr8ltBv1MaC"
      },
      "source": [
        "**Importante**\n",
        "Se aplica la ley conmutativa.\n",
        "Recordemos que la ley conmutativa es que el orden de los factores no altera el resultado (aplica para la suma y para la resta)\n",
        "\n"
      ]
    },
    {
      "cell_type": "code",
      "metadata": {
        "colab": {
          "base_uri": "https://localhost:8080/"
        },
        "id": "xfI4MZli1oZs",
        "outputId": "83a5b211-d7bd-4735-c5eb-2739c2387a8b"
      },
      "source": [
        "cali=5\n",
        "palmira=6\n",
        "print(palmira*cali)"
      ],
      "execution_count": null,
      "outputs": [
        {
          "output_type": "stream",
          "text": [
            "30\n"
          ],
          "name": "stdout"
        }
      ]
    },
    {
      "cell_type": "markdown",
      "metadata": {
        "id": "PWoeKz8v1shV"
      },
      "source": [
        "**División**\n",
        "\n",
        "---\n",
        "\n",
        "No aplica la ley conmutativa.\n",
        "El simbolo de división es la barra diagonal ( / )"
      ]
    },
    {
      "cell_type": "code",
      "metadata": {
        "colab": {
          "base_uri": "https://localhost:8080/"
        },
        "id": "hEJW03KJ174w",
        "outputId": "f83addaf-29fb-489f-9859-15b8ee376a6b"
      },
      "source": [
        "a=20\n",
        "b=4\n",
        "print(a/b)"
      ],
      "execution_count": null,
      "outputs": [
        {
          "output_type": "stream",
          "text": [
            "5.0\n"
          ],
          "name": "stdout"
        }
      ]
    },
    {
      "cell_type": "markdown",
      "metadata": {
        "id": "7WT0IjGW2Yr7"
      },
      "source": [
        "Para el **print** podemos separar las operacions por variable con coma ( , ) lo cual no afecta la impresión de los resultados por operación asignada."
      ]
    },
    {
      "cell_type": "code",
      "metadata": {
        "colab": {
          "base_uri": "https://localhost:8080/"
        },
        "id": "5Ba7OJl72mEr",
        "outputId": "b2b90d79-dbb4-4dec-96f0-f95c4fb69e79"
      },
      "source": [
        "a=20\n",
        "b=4\n",
        "print(b/a,a/b,a+b,a-b)"
      ],
      "execution_count": null,
      "outputs": [
        {
          "output_type": "stream",
          "text": [
            "0.2 5.0 24 16\n"
          ],
          "name": "stdout"
        }
      ]
    },
    {
      "cell_type": "markdown",
      "metadata": {
        "id": "QWj-HgkR3CL-"
      },
      "source": [
        "**Tipos de división**\n",
        "\n",
        "---\n",
        "1. División Exacta (/)\n",
        "2. División Inexacta (//)"
      ]
    },
    {
      "cell_type": "code",
      "metadata": {
        "colab": {
          "base_uri": "https://localhost:8080/"
        },
        "id": "U02z0iyv3TQt",
        "outputId": "fd6ff480-b222-46b3-9ab9-024b914d9552"
      },
      "source": [
        "print(15//3) #división EXACTA // arroja el valor entero\n",
        "print(15/4) #división INEXACTA  / da el valor completo"
      ],
      "execution_count": null,
      "outputs": [
        {
          "output_type": "stream",
          "text": [
            "5\n",
            "3.75\n"
          ],
          "name": "stdout"
        }
      ]
    },
    {
      "cell_type": "markdown",
      "metadata": {
        "id": "V8qd7sJN30kb"
      },
      "source": [
        "*Nota*: La operación de división, al igual que una división normal, **NO** es posible dividir entre cero. ¿Por qué? Porque en matemáticas es un resultado es indefinido"
      ]
    },
    {
      "cell_type": "code",
      "metadata": {
        "colab": {
          "base_uri": "https://localhost:8080/",
          "height": 164
        },
        "id": "EBQlxOOw4LVs",
        "outputId": "762ef6dc-89ef-4253-b53e-9163a77421eb"
      },
      "source": [
        "print(2/0)"
      ],
      "execution_count": null,
      "outputs": [
        {
          "output_type": "error",
          "ename": "ZeroDivisionError",
          "evalue": "ignored",
          "traceback": [
            "\u001b[0;31m---------------------------------------------------------------------------\u001b[0m",
            "\u001b[0;31mZeroDivisionError\u001b[0m                         Traceback (most recent call last)",
            "\u001b[0;32m<ipython-input-32-d2c0889640ff>\u001b[0m in \u001b[0;36m<module>\u001b[0;34m()\u001b[0m\n\u001b[0;32m----> 1\u001b[0;31m \u001b[0mprint\u001b[0m\u001b[0;34m(\u001b[0m\u001b[0;36m2\u001b[0m\u001b[0;34m/\u001b[0m\u001b[0;36m0\u001b[0m\u001b[0;34m)\u001b[0m\u001b[0;34m\u001b[0m\u001b[0;34m\u001b[0m\u001b[0m\n\u001b[0m",
            "\u001b[0;31mZeroDivisionError\u001b[0m: division by zero"
          ]
        }
      ]
    },
    {
      "cell_type": "markdown",
      "metadata": {
        "id": "J76lLpIB4P5W"
      },
      "source": [
        "4. Potenciación\n",
        "5. Módulo"
      ]
    },
    {
      "cell_type": "markdown",
      "metadata": {
        "id": "UndTSipk4Yf6"
      },
      "source": [
        "**Potenciación**\n",
        "\n",
        "---\n",
        "\n",
        "En Python el símbolo es doble astéristico ( ** )\n",
        "El primer valor es la base y el último valor el exponente"
      ]
    },
    {
      "cell_type": "code",
      "metadata": {
        "colab": {
          "base_uri": "https://localhost:8080/"
        },
        "id": "Uvzc_Ksh4nGg",
        "outputId": "8b330f40-8517-4fb6-ddfd-2ed1a31a8347"
      },
      "source": [
        "print(3**3) # 3 base y 3 exponente\n",
        "print(2**4) # 2 base y 4 exponente"
      ],
      "execution_count": null,
      "outputs": [
        {
          "output_type": "stream",
          "text": [
            "27\n"
          ],
          "name": "stdout"
        }
      ]
    },
    {
      "cell_type": "markdown",
      "metadata": {
        "id": "_6OyYIbH45p8"
      },
      "source": [
        "**Módulo**\n",
        "\n",
        "---\n",
        "Le llamamos modulo al residuo de la operación de división.\n",
        "El símbolo usado para mostrar el residuo es el porcentaje ( % )\n",
        "El primer valor es el dividendo y el último es el divisor"
      ]
    },
    {
      "cell_type": "code",
      "metadata": {
        "colab": {
          "base_uri": "https://localhost:8080/"
        },
        "id": "7fD7p6yc5Gnw",
        "outputId": "bdf77d06-acc2-4cc5-ad40-337cd3275774"
      },
      "source": [
        "print(81%9) # 81 dividendo y 9 divisor\n",
        "print(88%9) # 88 dividendo y 9 divisor"
      ],
      "execution_count": null,
      "outputs": [
        {
          "output_type": "stream",
          "text": [
            "0\n",
            "7\n"
          ],
          "name": "stdout"
        }
      ]
    },
    {
      "cell_type": "markdown",
      "metadata": {
        "id": "_H6HVAls9-MQ"
      },
      "source": [
        "**OPERADORES DE COMPARACIÓN**\n",
        "\n",
        "---\n",
        " Los operadors de comparación, sirven para comparar varios valores.\n",
        "En la vida cotidiana a la hora de tomar decisiones tenemos que decidir entre un camino u otro, ejemplo:Compras, decisiones de vida, caminos por recorrer."
      ]
    },
    {
      "cell_type": "markdown",
      "metadata": {
        "id": "p0YFO4Cm9_pI"
      },
      "source": [
        "**Igualdad**\n",
        "\n",
        "---\n",
        "Símbolo en Python es dos iguales ( == )\n"
      ]
    },
    {
      "cell_type": "code",
      "metadata": {
        "colab": {
          "base_uri": "https://localhost:8080/"
        },
        "id": "sLVaDVP7-Bya",
        "outputId": "384218d1-4b55-470e-dc62-983ab926a146"
      },
      "source": [
        "x=30\n",
        "z=31\n",
        "print (x == z) # dará respuestas tipo booleano (verdadero o falso)\n",
        "\n",
        "x=\"casa\"\n",
        "z=\"casa\"\n",
        "print(x==z) # dará respuestas tipo booleano (verdadero o falso)\n"
      ],
      "execution_count": null,
      "outputs": [
        {
          "output_type": "stream",
          "text": [
            "False\n",
            "True\n"
          ],
          "name": "stdout"
        }
      ]
    },
    {
      "cell_type": "markdown",
      "metadata": {
        "id": "pHmY6eqe-4wF"
      },
      "source": [
        "**Diferencia**\n",
        "\n",
        "---\n",
        "\n",
        "A diferencia del operador de igualdad, el símbolo esta combinado por el símbolo de admiración y el símbolo de igual ( != )"
      ]
    },
    {
      "cell_type": "code",
      "metadata": {
        "colab": {
          "base_uri": "https://localhost:8080/"
        },
        "id": "1HN9O9jY_mW-",
        "outputId": "a5952d00-c2e4-4d4e-ef63-cb910387be6c"
      },
      "source": [
        "x=\"casa\"\n",
        "z=\"caza\"\n",
        "print(x!=z) # dará respuestas tipo booleano (verdadero o falso)"
      ],
      "execution_count": null,
      "outputs": [
        {
          "output_type": "stream",
          "text": [
            "True\n"
          ],
          "name": "stdout"
        }
      ]
    },
    {
      "cell_type": "markdown",
      "metadata": {
        "id": "10ABPZMt_un0"
      },
      "source": [
        "**Mayor que**\n",
        "\n",
        "---\n",
        "Símbolo en Python ( > )\n",
        "Siempre en comparativa se designa cual es menor o el mayor, por el valor que está ala izquierda de la operacion."
      ]
    },
    {
      "cell_type": "code",
      "metadata": {
        "colab": {
          "base_uri": "https://localhost:8080/"
        },
        "id": "M2pXqkYxHAhV",
        "outputId": "8e81b905-4908-4b11-b098-c9f205d1a68b"
      },
      "source": [
        "print(30>29.8)\n",
        "print(20>10)"
      ],
      "execution_count": null,
      "outputs": [
        {
          "output_type": "stream",
          "text": [
            "True\n",
            "True\n"
          ],
          "name": "stdout"
        }
      ]
    },
    {
      "cell_type": "markdown",
      "metadata": {
        "id": "jXLKnzVYKdpM"
      },
      "source": [
        "**Menor que**\n",
        "\n",
        "---\n",
        "Caso contrario, el símbolo ( < )."
      ]
    },
    {
      "cell_type": "code",
      "metadata": {
        "colab": {
          "base_uri": "https://localhost:8080/"
        },
        "id": "Kzp1nEaPQGhu",
        "outputId": "d97bbfa8-6725-429a-89c0-75bfcebd7bc0"
      },
      "source": [
        "x = 4\n",
        "y = 3\n",
        "print( x < y)"
      ],
      "execution_count": null,
      "outputs": [
        {
          "output_type": "stream",
          "text": [
            "False\n"
          ],
          "name": "stdout"
        }
      ]
    },
    {
      "cell_type": "markdown",
      "metadata": {
        "id": "71NDOJ2dQXKB"
      },
      "source": [
        "**Mayor o igual que**\n",
        "\n",
        "---\n",
        "Es similar al mayor que, con diferencia de que la forma dará un resultado verdadero es si ambos numeros son iguales y flexibiliza dado verdadero de igual forma si el valor de la izquierda es mayor que el de la derecha. \n",
        "El símbolo ( >= )"
      ]
    },
    {
      "cell_type": "code",
      "metadata": {
        "colab": {
          "base_uri": "https://localhost:8080/"
        },
        "id": "YfOJKxW_REfK",
        "outputId": "cdb54985-84df-4f74-f01c-486f22b54b35"
      },
      "source": [
        "x = 10\n",
        "y = 5\n",
        "print (x >= y)"
      ],
      "execution_count": null,
      "outputs": [
        {
          "output_type": "stream",
          "text": [
            "True\n"
          ],
          "name": "stdout"
        }
      ]
    },
    {
      "cell_type": "markdown",
      "metadata": {
        "id": "3FYnNleQBkFX"
      },
      "source": [
        "**Menor o igual que**\n",
        "\n",
        "---\n",
        "El símbololo es ( <= )"
      ]
    },
    {
      "cell_type": "code",
      "metadata": {
        "colab": {
          "base_uri": "https://localhost:8080/"
        },
        "id": "ndzkzOJcCNTe",
        "outputId": "497b8ff5-2bef-45f1-8070-b7ad76b72156"
      },
      "source": [
        "c=45\n",
        "print (c<=46)"
      ],
      "execution_count": null,
      "outputs": [
        {
          "output_type": "stream",
          "text": [
            "True\n"
          ],
          "name": "stdout"
        }
      ]
    },
    {
      "cell_type": "markdown",
      "metadata": {
        "id": "eDFVhXB-Bi7Q"
      },
      "source": [
        "**Tener en cuenta** en comparaciones los resultados que nos arrojan siempre es de tipo Booleano es decir, True o False"
      ]
    },
    {
      "cell_type": "markdown",
      "metadata": {
        "id": "ik7TY4knCd1M"
      },
      "source": [
        "**OPERADORES LÓGICOS**\n",
        "\n",
        "---\n",
        "Python incluye tres operadores lógicos base:\n",
        "1. AND ( y )\n",
        "2. OR ( o )\n",
        "3. NOT (no)\n",
        "\n",
        "Los operadores lógicos funcionan solo con valores o variables booleanas, a su vez, devuelven como respuesta valores booleanos."
      ]
    },
    {
      "cell_type": "markdown",
      "metadata": {
        "id": "GiS5Av1zDFxk"
      },
      "source": [
        "**Operador AND**\n",
        "\n",
        "---\n",
        "Este operador solo devolverá (verdadero) si ambos valores lo son.\n",
        "¿Cómo usar el operador AND?\n",
        "Para usar este operador basta con escribir un valor Booleano, luego, la palabra \"and\" y por último otro valor booleano.\n",
        "\n",
        "**Ejemplo:**"
      ]
    },
    {
      "cell_type": "code",
      "metadata": {
        "colab": {
          "base_uri": "https://localhost:8080/"
        },
        "id": "sbbIPTniC6hR",
        "outputId": "921b5310-c04e-44c1-b2bc-c42c209c040a"
      },
      "source": [
        "print(True and False)"
      ],
      "execution_count": null,
      "outputs": [
        {
          "output_type": "stream",
          "text": [
            "False\n"
          ],
          "name": "stdout"
        }
      ]
    },
    {
      "cell_type": "markdown",
      "metadata": {
        "id": "Jfi3N4BYEBd4"
      },
      "source": [
        "**Ejemplo 2 de contextualizacion:**\n",
        "\n",
        "**1. True and True = True**\n",
        "2. True and False = False\n",
        "3. False and False = False\n",
        "4. False and True = False"
      ]
    },
    {
      "cell_type": "markdown",
      "metadata": {
        "id": "AFqdbCm1P4qy"
      },
      "source": [
        "**Operador OR**\n",
        "\n",
        "---\n",
        "A diferencia del operados AND, or devuelve todo verdadero a menos de que ambos valores sean FALSOS."
      ]
    },
    {
      "cell_type": "code",
      "metadata": {
        "colab": {
          "base_uri": "https://localhost:8080/"
        },
        "id": "Dszf8nO3EaZM",
        "outputId": "631ee00b-724b-478e-9774-0f160583681b"
      },
      "source": [
        "print (True or True)\n",
        "print(False or False)"
      ],
      "execution_count": null,
      "outputs": [
        {
          "output_type": "stream",
          "text": [
            "True\n",
            "False\n"
          ],
          "name": "stdout"
        }
      ]
    },
    {
      "cell_type": "markdown",
      "metadata": {
        "id": "kl2E7btGEhAd"
      },
      "source": [
        "**Ejemplo de contextualizacion:**\n",
        "\n",
        "**1. False and False = False**\n",
        "2. True and True = True\n",
        "3. False and False = True\n",
        "4. False and True = True"
      ]
    },
    {
      "cell_type": "code",
      "metadata": {
        "colab": {
          "base_uri": "https://localhost:8080/"
        },
        "id": "vSvEMPv-EwAZ",
        "outputId": "f56b70b5-8da1-43e9-da8b-ab00f176e93d"
      },
      "source": [
        "a=3\n",
        "b=2\n",
        "print(a>4 or a==4)\n",
        "\n",
        "print(b==b and b>=b)\n",
        "\n"
      ],
      "execution_count": null,
      "outputs": [
        {
          "output_type": "stream",
          "text": [
            "False\n",
            "True\n"
          ],
          "name": "stdout"
        }
      ]
    },
    {
      "cell_type": "markdown",
      "metadata": {
        "id": "bT-OWhBVFfCj"
      },
      "source": [
        "**Operador NOT**\n",
        "\n",
        "---\n",
        "Este operador es negación, en español \"No\". Este operador es muy especial, dado que por sí solo no sirve para hacer ninguna operación, lo único que hace es negar, o en palabras más simples, invertir el valor Booleano que tiene después de él.\n"
      ]
    },
    {
      "cell_type": "code",
      "metadata": {
        "colab": {
          "base_uri": "https://localhost:8080/"
        },
        "id": "5GtlXbPxGPWZ",
        "outputId": "bbadac99-3fa5-4dc1-b2ee-bc336b301c17"
      },
      "source": [
        "print(not False)\n",
        "print(not True)"
      ],
      "execution_count": null,
      "outputs": [
        {
          "output_type": "stream",
          "text": [
            "True\n",
            "False\n"
          ],
          "name": "stdout"
        }
      ]
    },
    {
      "cell_type": "markdown",
      "metadata": {
        "id": "zL7BZ8vIGb34"
      },
      "source": [
        "**PRECEDENCIA DE OPERACIONES**\n",
        "\n",
        "---\n",
        "Es muy importante manejar el orden lde las operaciones al realizarlas pero no caer en problemas de código error.\n",
        "\n",
        "El orden debe ser:\n",
        "1. De izquierda a derecha\n",
        "2. Paréntesis\n",
        "3. Potenciación o radicación\n",
        "4. Multiplicación y división\n",
        "5. Suma y resta\n",
        "\n",
        "**Ejemplo**\n",
        "4-2(10) =\n",
        "1. Primero el paréntesis:\n",
        "4-2*10 =\n",
        "2. se continua con la multiplicación:\n",
        "4-20\n",
        "3. Por ultimo la resta:\n",
        "4-20 = -16\n",
        "\n",
        "¿Cuál crees que es el resultado de la siguiente operación?"
      ]
    },
    {
      "cell_type": "code",
      "metadata": {
        "colab": {
          "base_uri": "https://localhost:8080/"
        },
        "id": "sLwGOZKvIU-q",
        "outputId": "b8e0369e-fce4-4cc0-fd1f-9d6b4d99644a"
      },
      "source": [
        "a = False\n",
        "b = True\n",
        "c = True\n",
        "print( not c and (a or b))\n",
        "\n",
        "\n",
        "print (3-2*(13-5))"
      ],
      "execution_count": null,
      "outputs": [
        {
          "output_type": "stream",
          "text": [
            "False\n",
            "-13\n"
          ],
          "name": "stdout"
        }
      ]
    },
    {
      "cell_type": "markdown",
      "metadata": {
        "id": "XghFfi_vJZx7"
      },
      "source": [
        "**RESUMEN**\n",
        "\n",
        "---\n",
        "1. Aplicación de ley conmutativa. sólo para suma y resta (operadores básicos)\n",
        "2. Los resultados con operadores lógicos son de tipo Booleano\n",
        "3. **No** se puede realizar resta entre variables de tipo cadena (El procedimiento si abarca números es la conversión desde el inicio)\n",
        "4. si aplicamos el condicional AND, para el resultado sea TRUE, la única forma es que ambos valores sean verdaderos.\n",
        "5. En cambio, con el OR si cumple que alguno de los dos valors son TRUE, el resultado será verdadero.\n"
      ]
    },
    {
      "cell_type": "code",
      "metadata": {
        "id": "odCJp-99S1NK"
      },
      "source": [
        "from google.colab import drive\n",
        "drive.mount('/content/drive')"
      ],
      "execution_count": null,
      "outputs": []
    }
  ]
}