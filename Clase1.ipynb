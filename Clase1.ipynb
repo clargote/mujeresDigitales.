{
  "nbformat": 4,
  "nbformat_minor": 0,
  "metadata": {
    "colab": {
      "name": "Clase1.ipynb",
      "provenance": [],
      "authorship_tag": "ABX9TyP1ToOl1xqovuFSBYK+T1yi",
      "include_colab_link": true
    },
    "kernelspec": {
      "name": "python3",
      "display_name": "Python 3"
    },
    "language_info": {
      "name": "python"
    }
  },
  "cells": [
    {
      "cell_type": "markdown",
      "metadata": {
        "id": "view-in-github",
        "colab_type": "text"
      },
      "source": [
        "<a href=\"https://colab.research.google.com/github/clargote/mujeresDigitales/blob/main/Clase1.ipynb\" target=\"_parent\"><img src=\"https://colab.research.google.com/assets/colab-badge.svg\" alt=\"Open In Colab\"/></a>"
      ]
    },
    {
      "cell_type": "markdown",
      "metadata": {
        "id": "5FYnrBrfofps"
      },
      "source": [
        "\n",
        "**Introducción**\n",
        "---\n",
        "Para manejar un código limpio en Python:\n",
        "podemos seguir las siguientes recomendaciones:\n",
        "\n",
        "1. Manejar siempre minúsculas\n",
        "2. Se le puede añadir números\n",
        "3. Aparecerá errores si no estan seguidos la declaración de la variable con el numero asignado, es decir. Ejemplo ana1 (correcto) y ana 1 (incorrecto - error)\n",
        "\n",
        "\n",
        "En Python hay varios tipos de datos Compuestos y estan disponibles por defecto en los interpretes (Convierte codigo a un lenguaje natural colab, anaconda es un interprete de python)\n",
        "\n",
        "**¿De qué tipos?**\n",
        " 1. Númericos\n",
        " 2. secuencias\n",
        " 3. Mapeos\n",
        " 4. Conjuntos usados para agrupar otros valores\n",
        "\n",
        " **Diferencia entre Constantes y Variables**\n",
        "En matemáticas llamamos constante a una magnitud que no cambia con el paso del tiempo.\n",
        "Ejemplo: Contabilidad: Gastos fijos\n",
        "Ejemplo 2: 6\n",
        "\n",
        "Por otrol lado, el concepto de variable, como la cantidad que es susceptible a tomar distintos valores numéricos. **Ejemplo**\n",
        "\n"
      ]
    },
    {
      "cell_type": "code",
      "metadata": {
        "colab": {
          "base_uri": "https://localhost:8080/"
        },
        "id": "NEDuDuvPqxsM",
        "outputId": "15e2114c-1324-4845-b445-aeb776cbaf7c"
      },
      "source": [
        "x=5\n",
        "print(x)"
      ],
      "execution_count": null,
      "outputs": [
        {
          "output_type": "stream",
          "text": [
            "5\n"
          ],
          "name": "stdout"
        }
      ]
    },
    {
      "cell_type": "markdown",
      "metadata": {
        "id": "Pp4Vt4OMrYJ9"
      },
      "source": [
        "**Tipos de datos**\n",
        "\n",
        "---\n",
        "\n",
        "**Enteros**\n",
        "Son los números que no tienen decimales\n",
        "Pueden ser positivos y negativos"
      ]
    },
    {
      "cell_type": "code",
      "metadata": {
        "colab": {
          "base_uri": "https://localhost:8080/"
        },
        "id": "4uishOcsrrfj",
        "outputId": "15041dc0-1cde-4002-aa04-62b9a09025e0"
      },
      "source": [
        "a=int(3)\n",
        "print(a, type(a))"
      ],
      "execution_count": null,
      "outputs": [
        {
          "output_type": "stream",
          "text": [
            "3 <class 'int'>\n"
          ],
          "name": "stdout"
        }
      ]
    },
    {
      "cell_type": "markdown",
      "metadata": {
        "id": "fTKXirSAsDdO"
      },
      "source": [
        "El comando *int* es para hacer alución a números enteros.\n",
        "A parte el comando *float*, permite valores con decimales\n"
      ]
    },
    {
      "cell_type": "code",
      "metadata": {
        "colab": {
          "base_uri": "https://localhost:8080/"
        },
        "id": "wiXvXk50snMU",
        "outputId": "7e9b785c-d393-4849-c3dc-0cf78ff1836e"
      },
      "source": [
        "b=float(8.25)\n",
        "print(b, type(b))"
      ],
      "execution_count": null,
      "outputs": [
        {
          "output_type": "stream",
          "text": [
            "8.25 <class 'float'>\n"
          ],
          "name": "stdout"
        }
      ]
    },
    {
      "cell_type": "markdown",
      "metadata": {
        "id": "fN8q3DjFscHe"
      },
      "source": [
        "**Tipo cadena**\n",
        "\n",
        "---\n",
        "\n",
        "Las cadenas de texto encerrado entre comillas (simples ' o dobles \") y se pueden conformar de diferentes caracteres (numéricos, alfabéticos, especiales #$%)\n",
        "tener en cueta, las cadenas admiten operadores como la suma y la resta. (Variable String)\n"
      ]
    },
    {
      "cell_type": "code",
      "metadata": {
        "colab": {
          "base_uri": "https://localhost:8080/"
        },
        "id": "QWcG7A__tgA0",
        "outputId": "d137a773-f5b5-4f49-ac8b-4f8ae99db0da"
      },
      "source": [
        "val1=\"Lorena\"\n",
        "print(val1)\n",
        "\n",
        "val2=\"Hola mundo\"\n",
        "print (val2)\n",
        "\n",
        "n= \"Aprender\"\n",
        "z=\"Python\"\n",
        "print (n,z)\n",
        "\n",
        "q=\"3\"\n",
        "z=\"4\"\n",
        "s=int(q)-int(z)\n",
        "print(s)\n",
        "\n"
      ],
      "execution_count": null,
      "outputs": [
        {
          "output_type": "stream",
          "text": [
            "Lorena\n",
            "Hola mundo\n",
            "Aprender Python\n",
            "-1\n"
          ],
          "name": "stdout"
        }
      ]
    },
    {
      "cell_type": "markdown",
      "metadata": {
        "id": "Zku-Zj4myIHf"
      },
      "source": [
        "**Tipo Booleanos:**\n",
        "\n",
        "\n",
        "---\n",
        "\n",
        "\n",
        "Este tipo de variable solo tendrá un valor de Verdadero o Falso\n",
        "\n",
        "**Nota:**\n",
        "Son valores muy usados en condiciones y bucles.\n",
        "\n"
      ]
    },
    {
      "cell_type": "code",
      "metadata": {
        "colab": {
          "base_uri": "https://localhost:8080/"
        },
        "id": "6D5KYb9LyfUX",
        "outputId": "624f3c70-fd06-46d5-81f0-070eb76d22ea"
      },
      "source": [
        "lola=False\n",
        "print(\"El valor es falso: \",lola,\", el cual es de tipo \", type(lola))"
      ],
      "execution_count": null,
      "outputs": [
        {
          "output_type": "stream",
          "text": [
            "El valor es falso:  False , el cual es de tipo  <class 'bool'>\n"
          ],
          "name": "stdout"
        }
      ]
    },
    {
      "cell_type": "markdown",
      "metadata": {
        "id": "drIH9vZtzRzx"
      },
      "source": [
        "Python cuenta con tipos de datos que admiten colecciones:\n",
        "1. Listas\n",
        "2. Tuplas\n",
        "3. Diccionarios\n",
        "\n",
        "**Tipo de Conjuntos**\n",
        "\n",
        "Son una colección de datos sin elementos que se repiten:\n"
      ]
    },
    {
      "cell_type": "code",
      "metadata": {
        "colab": {
          "base_uri": "https://localhost:8080/"
        },
        "id": "g4ybdmZY0Fxk",
        "outputId": "ced06f5c-8b0b-427e-9bbe-b830b50ad40a"
      },
      "source": [
        "frut='perra','manzana','naranja'\n",
        "print(frut)\n",
        "\n",
        "color='morado','blanco','azul'\n",
        "print(frut,color)"
      ],
      "execution_count": null,
      "outputs": [
        {
          "output_type": "stream",
          "text": [
            "('perra', 'manzana', 'naranja')\n",
            "('perra', 'manzana', 'naranja') ('morado', 'blanco', 'azul')\n"
          ],
          "name": "stdout"
        }
      ]
    },
    {
      "cell_type": "markdown",
      "metadata": {
        "id": "7_Um58SE0kKW"
      },
      "source": [
        "**Tipo Listas**\n",
        "\n",
        "---\n",
        "Son listas las que almacenan vectores.(una fila o columna con varios datos).\n",
        "Las listas siempre empiezan a nombrarse desde el elemento cero(0). A partir de alli empieza el conteo\n",
        "Ejemplo de listas en Python:\n"
      ]
    },
    {
      "cell_type": "code",
      "metadata": {
        "colab": {
          "base_uri": "https://localhost:8080/"
        },
        "id": "GOH4rnbC05_c",
        "outputId": "f0ef8ef6-49f6-4b46-d668-c85973aed6dc"
      },
      "source": [
        "ines=['5','uva','lila','perro']\n",
        "print(ines)\n",
        "fe=ines[2]\n",
        "fe1=ines[0:3]\n",
        "print(fe)\n",
        "print(fe1)"
      ],
      "execution_count": null,
      "outputs": [
        {
          "output_type": "stream",
          "text": [
            "['5', 'uva', 'lila', 'perro']\n",
            "lila\n",
            "['5', 'uva', 'lila']\n"
          ],
          "name": "stdout"
        }
      ]
    },
    {
      "cell_type": "markdown",
      "metadata": {
        "id": "bNKn2Co74Adu"
      },
      "source": [
        "**Tipo Tuplas**\n",
        "\n",
        "---\n",
        "Es una lista que no se puede modificar después de la creación de esta:\n",
        "Tuplas anidades: Agrupación (Tuplas)"
      ]
    },
    {
      "cell_type": "code",
      "metadata": {
        "colab": {
          "base_uri": "https://localhost:8080/"
        },
        "id": "65upae-d4fDo",
        "outputId": "22980542-bab4-4380-bda2-ec76e20b15ab"
      },
      "source": [
        "tupla=23,28,'hola'\n",
        "print(tupla)\n",
        "\n",
        "otra=tupla,(1,2,3,4)\n",
        "print(otra)"
      ],
      "execution_count": null,
      "outputs": [
        {
          "output_type": "stream",
          "text": [
            "(23, 28, 'hola')\n",
            "((23, 28, 'hola'), (1, 2, 3, 4))\n"
          ],
          "name": "stdout"
        }
      ]
    },
    {
      "cell_type": "markdown",
      "metadata": {
        "id": "YANz3FWl55cQ"
      },
      "source": [
        "**Tipo Diccionarios**\n",
        "\n",
        "---\n",
        "Define los datos uno a uno entre un campo (ID   -Identificador-Clave) y un valor."
      ]
    },
    {
      "cell_type": "code",
      "metadata": {
        "colab": {
          "base_uri": "https://localhost:8080/"
        },
        "id": "D-e34O_N6xV8",
        "outputId": "5e391926-b218-4300-d7ce-5a55be5ab70d"
      },
      "source": [
        "datos_b={\n",
        "    'nombre':\"Lorena\",\n",
        "    \"apellios\":\"Argote\",\n",
        "    \"Cedula\": \"123456789\",\n",
        "    \"est_civil\":\"Casada\",\n",
        "    \"lugar_nacimiento\":\"Cali\",\n",
        "    \"fecha_nacimiento\":\"17/03/1989\"\n",
        "}\n",
        "\n",
        "print(\"ID del diccionario\", datos_b.keys()) \n",
        "print(\"ID del diccionario\", datos_b.values()) \n",
        "print(\"ID del diccionario\", datos_b.items()) \n",
        "print(\"cedula de ciudadania :\", datos_b['Cedula'])\n"
      ],
      "execution_count": null,
      "outputs": [
        {
          "output_type": "stream",
          "text": [
            "ID del diccionario dict_keys(['nombre', 'apellios', 'Cedula', 'est_civil', 'lugar_nacimiento', 'fecha_nacimiento'])\n",
            "ID del diccionario dict_values(['Lorena', 'Argote', '123456789', 'Casada', 'Cali', '17/03/1989'])\n",
            "ID del diccionario dict_items([('nombre', 'Lorena'), ('apellios', 'Argote'), ('Cedula', '123456789'), ('est_civil', 'Casada'), ('lugar_nacimiento', 'Cali'), ('fecha_nacimiento', '17/03/1989')])\n",
            "cedula de ciudadania : 123456789\n"
          ],
          "name": "stdout"
        }
      ]
    },
    {
      "cell_type": "markdown",
      "metadata": {
        "id": "1R8rSLnS8mOS"
      },
      "source": [
        "**Ejemplo Practico*(características de los carros)**\n"
      ]
    },
    {
      "cell_type": "code",
      "metadata": {
        "colab": {
          "base_uri": "https://localhost:8080/"
        },
        "id": "KIWIu8OU8vY7",
        "outputId": "dc807256-b6c7-41d1-b71b-7f4ef5d86c02"
      },
      "source": [
        "carros_0={}\n",
        "carros_0['tam']='grande'\n",
        "carros_0['color']='negro'\n",
        "carros_0['marca']='Renault'\n",
        "carros_0['precio']=60\n",
        "print(carros_0)\n",
        "\n",
        "carros_1={}\n",
        "carros_1['tam']='pequeño'\n",
        "carros_1['color']='blanco'\n",
        "carros_1['marca']='Renault'\n",
        "carros_1['precio']=37\n",
        "print(carros_1)\n",
        "\n",
        "compra0=carros_0['precio']\n",
        "compra1=carros_1['precio']\n",
        "compratotal=compra0+compra1\n",
        "print(\"La compra total fue de:\",compratotal)\n"
      ],
      "execution_count": null,
      "outputs": [
        {
          "output_type": "stream",
          "text": [
            "{'tam': 'grande', 'color': 'negro', 'marca': 'Renault', 'precio': 60}\n",
            "{'tam': 'pequeño', 'color': 'blanco', 'marca': 'Renault', 'precio': 37}\n",
            "La compra total fue de: 97\n"
          ],
          "name": "stdout"
        }
      ]
    }
  ]
}