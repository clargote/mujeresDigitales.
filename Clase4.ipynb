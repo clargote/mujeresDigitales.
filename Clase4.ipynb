{
  "nbformat": 4,
  "nbformat_minor": 0,
  "metadata": {
    "colab": {
      "name": "Clase4.ipynb",
      "provenance": [],
      "authorship_tag": "ABX9TyPr6sT89LY8MUT1nAC8uDKI",
      "include_colab_link": true
    },
    "kernelspec": {
      "name": "python3",
      "display_name": "Python 3"
    },
    "language_info": {
      "name": "python"
    }
  },
  "cells": [
    {
      "cell_type": "markdown",
      "metadata": {
        "id": "view-in-github",
        "colab_type": "text"
      },
      "source": [
        "<a href=\"https://colab.research.google.com/github/clargote/mujeresDigitales/blob/main/Clase4.ipynb\" target=\"_parent\"><img src=\"https://colab.research.google.com/assets/colab-badge.svg\" alt=\"Open In Colab\"/></a>"
      ]
    },
    {
      "cell_type": "markdown",
      "metadata": {
        "id": "0n_AwSHBhI7o"
      },
      "source": [
        "**Continuación de estructuras de control iteractivas**\n",
        "\n",
        "---\n",
        "**ACUMULADORES**\n",
        "\n",
        "Se le da este nombre a las variables que se encargan de \"almacenar\" algún tipo de información.\n",
        "\n",
        "*Ejemplo*\n",
        "El caso de la compra de viveres en la tienda:\n"
      ]
    },
    {
      "cell_type": "code",
      "metadata": {
        "colab": {
          "base_uri": "https://localhost:8080/"
        },
        "id": "KMxg8hDOjlF3",
        "outputId": "93d9c6f9-1c47-430b-9e10-ba30e15dbb41"
      },
      "source": [
        "nombre= input(\"Nombre del consumidor \")\n",
        "listacompra=\"\"\n",
        "print(nombre,\"escribe los siguientes viveres para su compra en el supermercado: \")\n",
        "\n",
        "listacompra=listacompra + \"Paca papel higiénico\"\n",
        "print(\"\\n----Compras que tengo que hacer----\")\n",
        "\n",
        "listacompra = listacompra + \", 2 Shampoo Pantene 2 en 1\"\n",
        "listacompra= listacompra + \", 2 pacas de pañales pequeñin etapa 3 \"\n",
        "print(listacompra)"
      ],
      "execution_count": null,
      "outputs": [
        {
          "output_type": "stream",
          "text": [
            "Nombre del consumidor f\n",
            "f escribe los siguientes viveres para su compra en el supermercado: \n",
            "\n",
            "----Compras que tengo que hacer----\n",
            "Paca papel higiénico, 2 Shampoo Pantene 2 en 1, 2 pacas de pañales pequeñin etapa 3 \n"
          ],
          "name": "stdout"
        }
      ]
    },
    {
      "cell_type": "markdown",
      "metadata": {
        "id": "jwTmCavBlUc5"
      },
      "source": [
        "La variable \"listacomp\" nos esta sirviendo para acumular información de la lista de comrpas.\n",
        "Podemos observar que \"**NO**\" estamos creando una variable para cada item, sino una variable definida nos sirve para almacenar la información.\n",
        "\n",
        "A continuación observemos un ejemplo donde se ponga en práctica el uso de acumulación en una variable usando cantidades y precios."
      ]
    },
    {
      "cell_type": "code",
      "metadata": {
        "colab": {
          "base_uri": "https://localhost:8080/"
        },
        "id": "ex64WqVSl7BY",
        "outputId": "ee0124b9-847e-4ccd-8d84-d944fa4c445d"
      },
      "source": [
        "ppph=14000    #precio paca de papel higiénico\n",
        "cpph=2         #cantidad pacas de papel higiénico\n",
        "\n",
        "pshampoo=18000  #precio del shampoo\n",
        "cshampoo=4      #cantidad de shampoo\n",
        "\n",
        "ppbebe=17000    #precio paca pañales\n",
        "cpbebe= 3       #cantidad de pacas de pañales\n",
        "\n",
        "subtotal=0      #Subtotal de la compra\n",
        "print(\"Calculando el total de la compra...\")\n",
        "\n",
        "total_pph=ppph*cpph #total papel higienico\n",
        "print(\"\\nEl valor total de papel higiénico es: $\",total_pph)\n",
        "subtotal=subtotal+ total_pph\n",
        "print (\"---El subtotal es: $\", subtotal     )\n",
        "\n",
        "total_shampoo= pshampoo*cshampoo\n",
        "print(\"\\nEl valor total de Shampoo es: $\",total_shampoo)\n",
        "subtotal=subtotal + total_shampoo\n",
        "print(\"---El subtotal es: $\", subtotal)\n",
        "\n",
        "total_pbebe=ppbebe*cpbebe\n",
        "print(\"\\nEl valor total para pañales es: $\",total_pbebe)\n",
        "subtotal=subtotal + total_pbebe\n",
        "print(\"\\n---El Total de su compra es: $\", subtotal)\n"
      ],
      "execution_count": null,
      "outputs": [
        {
          "output_type": "stream",
          "text": [
            "Calculando el total de la compra...\n",
            "\n",
            "El valor total de papel higiénico es: $ 28000\n",
            "---El subtotal es: $ 28000\n",
            "\n",
            "El valor total de Shampoo es: $ 72000\n",
            "---El subtotal es: $ 100000\n",
            "\n",
            "El valor total para pañales es: $ 51000\n",
            "\n",
            "---El Total de su compra es: $ 151000\n"
          ],
          "name": "stdout"
        }
      ]
    },
    {
      "cell_type": "markdown",
      "metadata": {
        "id": "bu1hz_Ezlof4"
      },
      "source": [
        "**CONTADORES**\n",
        "\n",
        "---\n",
        "\n",
        "Tiene mucha relación con los *acumuladores* visto en el apartado anterior. Estas variables se caracterizan por ser variables de control, es decir, controlan la **cantidad** de vecesque se ejecuta determinada acción.\n",
        "\n",
        "Usando con el ejemplo anterior y modificandolo un poco, podemos desarrollar el siguiente algoritmo:**texto en negrita**"
      ]
    },
    {
      "cell_type": "markdown",
      "metadata": {
        "id": "zbzV2yqfpVyM"
      },
      "source": [
        ""
      ]
    },
    {
      "cell_type": "code",
      "metadata": {
        "colab": {
          "base_uri": "https://localhost:8080/"
        },
        "id": "dG4u-nwnpQx_",
        "outputId": "b33e032d-e9b0-499c-ccea-47ef01385564"
      },
      "source": [
        "#Se comprará pañales por unidad en este caso.\n",
        "contp=0  #declara la variable de almacenamiento de control vacia, si es numeros se usa 0, pero si es de cadena se usa \"\"\n",
        "print(\"Se realizará la compra de pañales etapa 3... Se ha iniciado la compra y asignación en el carrito. En total hay:\",contp,\"pañales\")\n",
        "\n",
        "contp=contp+1\n",
        "print(\"Ahora hay:\",contp,\"pañal\")\n",
        "\n",
        "contp=contp+1\n",
        "print(\"Ahora hay:\",contp,\"pañales\")\n",
        "\n",
        "contp=contp+1\n",
        "print(\"Ahora hay:\",contp,\"pañales\")\n",
        "\n",
        "contp=contp+1\n",
        "print(\"Ahora hay:\",contp,\"pañales\")\n",
        "\n",
        "contp=contp+1\n",
        "print(\"Ahora hay:\",contp,\"pañales\")  #es conteo porque va de 1 en 1, si cambio de 1 es un acumulador"
      ],
      "execution_count": null,
      "outputs": [
        {
          "output_type": "stream",
          "text": [
            "Se realizará la compra de pañales etapa 3... Se ha iniciado la compra y asignación en el carrito. En total hay: 0 pañales\n",
            "Ahora hay: 1 pañal\n",
            "Ahora hay: 2 pañales\n",
            "Ahora hay: 3 pañales\n",
            "Ahora hay: 4 pañales\n",
            "Ahora hay: 5 pañales\n"
          ],
          "name": "stdout"
        }
      ]
    },
    {
      "cell_type": "markdown",
      "metadata": {
        "id": "ld4pJ84Vq9RP"
      },
      "source": [
        "**CICLOS CONTROLADOS POR CONDICIONES**\n",
        "\n",
        "*WHILE*\n",
        "\n",
        "---\n",
        "Recordemos que las variables de control, nos permite manejar estados, pasar de un estado a otro es por ejemplo: Una variable que no contiene elementos a contenerlo o una variable con un elemento en particular (Acumulador o contador) y cambiarlo por completo (Bandera).\n",
        "\n",
        "Estas variables de control son la base de los cicloss de control. Siendo más claros, pasar de una adición manual a algo más automátizado.\n",
        "\n",
        "Empezamos con el ciclo \"WHILE\". En español es \"mientras\". Este ciclo se compone de una **condicion** y su **bloque de codigo** lo que nos quiere decir el WHIL es que el bloque de código se ejecutará **mientras** la condición da como resultado TRUE o FALSE.\n",
        "\n"
      ]
    },
    {
      "cell_type": "code",
      "metadata": {
        "colab": {
          "base_uri": "https://localhost:8080/"
        },
        "id": "8NXaMIpbsJiY",
        "outputId": "50b7dd9c-cb8f-4068-b66f-a24290ce8b6b"
      },
      "source": [
        "lapiz=5       # la cantidad que voy a comprar\n",
        "contlapiz=0   #es el contador de los lappices\n",
        "print(\"Se ha iniciado la comrpa. En total hay:\",contlapiz, lapiz)\n",
        "\n",
        "while (contlapiz <lapiz):   #condición\n",
        "  contlapiz+=1    # añade de 1 en 1\n",
        "  print(\"Se ha realizado la compra de lapices. Ahora hay: \"+ str(contlapiz) +\" lapiz\")  #convierte la varible int a tipo cadena str, si se deja int no deja imprimir, sale ERROR\n",
        "  print(\"Se ha realizado la compra de lapices. Ahora hay:\", contlapiz,\"lapiz\")  #esta es la varible int \n"
      ],
      "execution_count": null,
      "outputs": [
        {
          "output_type": "stream",
          "text": [
            "Se ha iniciado la comrpa. En total hay: 0 5\n",
            "Se ha realizado la compra de lapices. Ahora hay: 1 lapiz\n",
            "Se ha realizado la compra de lapices. Ahora hay: 1 lapiz\n",
            "Se ha realizado la compra de lapices. Ahora hay: 2 lapiz\n",
            "Se ha realizado la compra de lapices. Ahora hay: 2 lapiz\n",
            "Se ha realizado la compra de lapices. Ahora hay: 3 lapiz\n",
            "Se ha realizado la compra de lapices. Ahora hay: 3 lapiz\n",
            "Se ha realizado la compra de lapices. Ahora hay: 4 lapiz\n",
            "Se ha realizado la compra de lapices. Ahora hay: 4 lapiz\n",
            "Se ha realizado la compra de lapices. Ahora hay: 5 lapiz\n",
            "Se ha realizado la compra de lapices. Ahora hay: 5 lapiz\n"
          ],
          "name": "stdout"
        }
      ]
    },
    {
      "cell_type": "markdown",
      "metadata": {
        "id": "--ESw1qXvEIz"
      },
      "source": [
        "Tener en cuenta que dentro del ciclo de WHILE se va afectando las variables implicadas en la declaración de la condición que debe cumplir el ciclo. En el ejemplo anterior la variable ***contlapiz*** para que en alg{un momento la condición sea verdadera y termine el ciclo que tiene que cumplir la condición (contlapiz < lapiz). De lo contrario, tendriamos un ciclo que nunca se detendría, lo cual decantaría en un ciclo indeterminable."
      ]
    },
    {
      "cell_type": "markdown",
      "metadata": {
        "id": "WKRhs6-pv_0w"
      },
      "source": [
        "**CICLO DE FOR**\n",
        "\n",
        "---\n",
        "Es un ciclo especializado y optimizado para los ciclos controlados por cantidad. Se compone de tres elementos:\n",
        "1. La variable de iteración FOR\n",
        "2. Elemento de iteración   i in\n",
        "3. Bloque de código a iterar    range(1,6)\n",
        "\n",
        "**Ventajas de usar el FOR**\n",
        "En Python es muy importante y se considera una herramienta bastante flexible y poderosa, por permitir ingresar estructuras de datos complejas, cadena de caracteres, rangos, entre otros. Los elementos de iteración usdos en esta estructura de datos son necesarios que tengan la siguiente característica:\n",
        "1. Cantidad definida (Esto lo diferencia del WHILE)\n",
        "\n",
        "El WHILE parte de una condición de verdad, pero el **FOR** parte de una cantidad definida."
      ]
    },
    {
      "cell_type": "code",
      "metadata": {
        "colab": {
          "base_uri": "https://localhost:8080/"
        },
        "id": "HzHrMeYQxOL3",
        "outputId": "13d3e514-74d0-4fa5-ea12-b98d0b19c03c"
      },
      "source": [
        "#Retomando el ejemplo de la comrpa de los lapices\n",
        "\n",
        "print(\"Se ha iniciado la compra. En total hay: 0 lapices\")\n",
        "\n",
        "for i in range(1,6):  # itera 5 veces porque en los rangos la función range manejan un intervalo abierto a la derecha y cerrado a la izquierda (se resta uno 6-1=5)\n",
        "                      # si pongo 11,16 inicia en 11 hasta 15\n",
        "                      # si pongo un tercer valor en el rango range(1,6,2) hace un salto de 2 arranca en 1, 3, 5\n",
        "  print(\"Se ha realizado la compra de lapices. Ahora hay\",i,\"lapices\")\n",
        "\n"
      ],
      "execution_count": null,
      "outputs": [
        {
          "output_type": "stream",
          "text": [
            "Se ha iniciado la compra. En total hay: 0 lapices\n",
            "Se ha realizado la compra de lapices. Ahora hay 1 lapices\n",
            "Se ha realizado la compra de lapices. Ahora hay 2 lapices\n",
            "Se ha realizado la compra de lapices. Ahora hay 3 lapices\n",
            "Se ha realizado la compra de lapices. Ahora hay 4 lapices\n",
            "Se ha realizado la compra de lapices. Ahora hay 5 lapices\n"
          ],
          "name": "stdout"
        }
      ]
    }
  ]
}