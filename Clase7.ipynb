{
  "nbformat": 4,
  "nbformat_minor": 0,
  "metadata": {
    "colab": {
      "name": "Clase7.ipynb",
      "provenance": [],
      "authorship_tag": "ABX9TyNINTHmoJ17zWLlIRO/5FIZ",
      "include_colab_link": true
    },
    "kernelspec": {
      "name": "python3",
      "display_name": "Python 3"
    },
    "language_info": {
      "name": "python"
    }
  },
  "cells": [
    {
      "cell_type": "markdown",
      "metadata": {
        "id": "view-in-github",
        "colab_type": "text"
      },
      "source": [
        "<a href=\"https://colab.research.google.com/github/clargote/mujeresDigitales/blob/main/Clase7.ipynb\" target=\"_parent\"><img src=\"https://colab.research.google.com/assets/colab-badge.svg\" alt=\"Open In Colab\"/></a>"
      ]
    },
    {
      "cell_type": "markdown",
      "metadata": {
        "id": "grClTG-9yvLo"
      },
      "source": [
        "**Continuación de funciones**\n",
        "\n",
        "---\n",
        "Recordemos el ejercicio de la clase pasada"
      ]
    },
    {
      "cell_type": "code",
      "metadata": {
        "colab": {
          "base_uri": "https://localhost:8080/"
        },
        "id": "lZ_Qd5oD0Znr",
        "outputId": "4d95a725-abb1-466e-9130-acc7bc84f441"
      },
      "source": [
        "def suma (*number):\n",
        "  print(type(number))\n",
        "  total=0\n",
        "  for i in number:\n",
        "    total+=i\n",
        "  return total\n",
        "suma(2,3,5,4)"
      ],
      "execution_count": 4,
      "outputs": [
        {
          "output_type": "stream",
          "text": [
            "<class 'tuple'>\n"
          ],
          "name": "stdout"
        },
        {
          "output_type": "execute_result",
          "data": {
            "text/plain": [
              "14"
            ]
          },
          "metadata": {
            "tags": []
          },
          "execution_count": 4
        }
      ]
    },
    {
      "cell_type": "code",
      "metadata": {
        "colab": {
          "base_uri": "https://localhost:8080/"
        },
        "id": "7f4-AKrT10lR",
        "outputId": "3f5f1395-a915-4180-9b37-3e9d935173f5"
      },
      "source": [
        "#Al realizar el cambio y o edicion de la funcion suma que veniamos usando, se puede añadir n elementos para iterar la función definida\n",
        "\n",
        "suma(1,2,5,6,7,9)  # me deja agregar mas de 4 elementos de porque usamos *number"
      ],
      "execution_count": 7,
      "outputs": [
        {
          "output_type": "stream",
          "text": [
            "<class 'tuple'>\n"
          ],
          "name": "stdout"
        },
        {
          "output_type": "execute_result",
          "data": {
            "text/plain": [
              "30"
            ]
          },
          "metadata": {
            "tags": []
          },
          "execution_count": 7
        }
      ]
    },
    {
      "cell_type": "markdown",
      "metadata": {
        "id": "iLUhrlFm2aGl"
      },
      "source": [
        "El uso del doble asterisco **\n",
        "\n",
        "---\n",
        "El uso del doble asterisco nos permite tener como parámetro de entrada una lista de elementos en forma de clave y valor.\n",
        "La forma de iterar será usando el comando *item()*."
      ]
    },
    {
      "cell_type": "code",
      "metadata": {
        "colab": {
          "base_uri": "https://localhost:8080/"
        },
        "id": "B-bAboav20jO",
        "outputId": "3578c7d7-09fa-46e9-86a0-3d016f146ac6"
      },
      "source": [
        "def suma(**dado):\n",
        "  suma=0\n",
        "  for i,j in dado.items():  #i para llaves, j para elementos\n",
        "    suma +=j  # son los valores j\n",
        "  return suma\n",
        "suma(a=3,b=30,c=7)\n"
      ],
      "execution_count": 9,
      "outputs": [
        {
          "output_type": "execute_result",
          "data": {
            "text/plain": [
              "40"
            ]
          },
          "metadata": {
            "tags": []
          },
          "execution_count": 9
        }
      ]
    },
    {
      "cell_type": "markdown",
      "metadata": {
        "id": "1YMB4mCL4DD6"
      },
      "source": [
        "**Ampliemos la definición del comando Return**\n",
        "\n",
        "---\n",
        "1. Devolver parámetros\n"
      ]
    },
    {
      "cell_type": "code",
      "metadata": {
        "colab": {
          "base_uri": "https://localhost:8080/",
          "height": 35
        },
        "id": "uptUrufk4Zen",
        "outputId": "43d63a86-5bad-4475-a4c2-20d0cce7bd83"
      },
      "source": [
        "def w():\n",
        "  return \"Hi\"\n",
        "w()"
      ],
      "execution_count": 10,
      "outputs": [
        {
          "output_type": "execute_result",
          "data": {
            "application/vnd.google.colaboratory.intrinsic+json": {
              "type": "string"
            },
            "text/plain": [
              "'Hi'"
            ]
          },
          "metadata": {
            "tags": []
          },
          "execution_count": 10
        }
      ]
    },
    {
      "cell_type": "markdown",
      "metadata": {
        "id": "uKqtM1zJ40XS"
      },
      "source": [
        "2.Devolver varias variables."
      ]
    },
    {
      "cell_type": "code",
      "metadata": {
        "colab": {
          "base_uri": "https://localhost:8080/"
        },
        "id": "o-ZfYsxa43Gz",
        "outputId": "e8523c98-543f-4eac-c092-18d8e1f62a2b"
      },
      "source": [
        "def sd(a,b,c):\n",
        "  q=a+b+c #declaracion de variable con una suma de argumentos\n",
        "  z=q/3 #declaracion de variable con el promedio\n",
        "  return q,z\n",
        "q,z=sd(2,4,6)\n",
        "print(q)\n",
        "print(z)"
      ],
      "execution_count": 12,
      "outputs": [
        {
          "output_type": "stream",
          "text": [
            "12\n",
            "4.0\n"
          ],
          "name": "stdout"
        }
      ]
    },
    {
      "cell_type": "markdown",
      "metadata": {
        "id": "iPYLCBuE5rHj"
      },
      "source": [
        "**Formas de hacer documentacion en programacion y por bloques de codigo o linea**\n",
        "\n",
        "----\n",
        "\n",
        "\n"
      ]
    },
    {
      "cell_type": "code",
      "metadata": {
        "id": "4PmYWmke58q1"
      },
      "source": [
        "def paula(a,b):\n",
        "\n",
        "  \"\"\"\n",
        "  Descripción de la función, los parámetros que se van a usar,\n",
        "  explicar como se usa y que operaciones devuelve esta función\n",
        "  \"\"\"\n",
        "  return a+b\n"
      ],
      "execution_count": 13,
      "outputs": []
    }
  ]
}