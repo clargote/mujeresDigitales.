{
  "nbformat": 4,
  "nbformat_minor": 0,
  "metadata": {
    "colab": {
      "name": "Clase7.ipynb",
      "provenance": [],
      "authorship_tag": "ABX9TyPK3XMpcq+thknVfxQa+Aw4",
      "include_colab_link": true
    },
    "kernelspec": {
      "name": "python3",
      "display_name": "Python 3"
    },
    "language_info": {
      "name": "python"
    }
  },
  "cells": [
    {
      "cell_type": "markdown",
      "metadata": {
        "id": "view-in-github",
        "colab_type": "text"
      },
      "source": [
        "<a href=\"https://colab.research.google.com/github/clargote/mujeresDigitales/blob/main/Clase7.ipynb\" target=\"_parent\"><img src=\"https://colab.research.google.com/assets/colab-badge.svg\" alt=\"Open In Colab\"/></a>"
      ]
    },
    {
      "cell_type": "markdown",
      "metadata": {
        "id": "grClTG-9yvLo"
      },
      "source": [
        "**Continuación de funciones**\n",
        "\n",
        "---\n",
        "Recordemos el ejercicio de la clase pasada"
      ]
    },
    {
      "cell_type": "code",
      "metadata": {
        "colab": {
          "base_uri": "https://localhost:8080/"
        },
        "id": "lZ_Qd5oD0Znr",
        "outputId": "4d95a725-abb1-466e-9130-acc7bc84f441"
      },
      "source": [
        "def suma (*number):\n",
        "  print(type(number))\n",
        "  total=0\n",
        "  for i in number:\n",
        "    total+=i\n",
        "  return total\n",
        "suma(2,3,5,4)"
      ],
      "execution_count": 4,
      "outputs": [
        {
          "output_type": "stream",
          "text": [
            "<class 'tuple'>\n"
          ],
          "name": "stdout"
        },
        {
          "output_type": "execute_result",
          "data": {
            "text/plain": [
              "14"
            ]
          },
          "metadata": {
            "tags": []
          },
          "execution_count": 4
        }
      ]
    },
    {
      "cell_type": "code",
      "metadata": {
        "colab": {
          "base_uri": "https://localhost:8080/"
        },
        "id": "7f4-AKrT10lR",
        "outputId": "3f5f1395-a915-4180-9b37-3e9d935173f5"
      },
      "source": [
        "#Al realizar el cambio y o edicion de la funcion suma que veniamos usando, se puede añadir n elementos para iterar la función definida\n",
        "\n",
        "suma(1,2,5,6,7,9)  # me deja agregar mas de 4 elementos de porque usamos *number"
      ],
      "execution_count": 7,
      "outputs": [
        {
          "output_type": "stream",
          "text": [
            "<class 'tuple'>\n"
          ],
          "name": "stdout"
        },
        {
          "output_type": "execute_result",
          "data": {
            "text/plain": [
              "30"
            ]
          },
          "metadata": {
            "tags": []
          },
          "execution_count": 7
        }
      ]
    },
    {
      "cell_type": "markdown",
      "metadata": {
        "id": "iLUhrlFm2aGl"
      },
      "source": [
        "El uso del doble asterisco **\n",
        "\n",
        "---\n",
        "El uso del doble asterisco nos permite tener como parámetro de entrada una lista de elementos en forma de clave y valor.\n",
        "La forma de iterar será usando el comando *item()*."
      ]
    },
    {
      "cell_type": "code",
      "metadata": {
        "colab": {
          "base_uri": "https://localhost:8080/"
        },
        "id": "B-bAboav20jO",
        "outputId": "3578c7d7-09fa-46e9-86a0-3d016f146ac6"
      },
      "source": [
        "def suma(**dado):\n",
        "  suma=0\n",
        "  for i,j in dado.items():  #i para llaves, j para elementos\n",
        "    suma +=j  # son los valores j\n",
        "  return suma\n",
        "suma(a=3,b=30,c=7)\n"
      ],
      "execution_count": 9,
      "outputs": [
        {
          "output_type": "execute_result",
          "data": {
            "text/plain": [
              "40"
            ]
          },
          "metadata": {
            "tags": []
          },
          "execution_count": 9
        }
      ]
    },
    {
      "cell_type": "markdown",
      "metadata": {
        "id": "1YMB4mCL4DD6"
      },
      "source": [
        "**Ampliemos la definición del comando Return**\n",
        "\n",
        "---\n",
        "1. Devolver parámetros\n"
      ]
    },
    {
      "cell_type": "code",
      "metadata": {
        "colab": {
          "base_uri": "https://localhost:8080/",
          "height": 35
        },
        "id": "uptUrufk4Zen",
        "outputId": "43d63a86-5bad-4475-a4c2-20d0cce7bd83"
      },
      "source": [
        "def w():\n",
        "  return \"Hi\"\n",
        "w()"
      ],
      "execution_count": 10,
      "outputs": [
        {
          "output_type": "execute_result",
          "data": {
            "application/vnd.google.colaboratory.intrinsic+json": {
              "type": "string"
            },
            "text/plain": [
              "'Hi'"
            ]
          },
          "metadata": {
            "tags": []
          },
          "execution_count": 10
        }
      ]
    },
    {
      "cell_type": "markdown",
      "metadata": {
        "id": "uKqtM1zJ40XS"
      },
      "source": [
        "2.Devolver varias variables."
      ]
    },
    {
      "cell_type": "code",
      "metadata": {
        "colab": {
          "base_uri": "https://localhost:8080/"
        },
        "id": "o-ZfYsxa43Gz",
        "outputId": "e8523c98-543f-4eac-c092-18d8e1f62a2b"
      },
      "source": [
        "def sd(a,b,c):\n",
        "  q=a+b+c #declaracion de variable con una suma de argumentos\n",
        "  z=q/3 #declaracion de variable con el promedio\n",
        "  return q,z\n",
        "q,z=sd(2,4,6)\n",
        "print(q)\n",
        "print(z)"
      ],
      "execution_count": 12,
      "outputs": [
        {
          "output_type": "stream",
          "text": [
            "12\n",
            "4.0\n"
          ],
          "name": "stdout"
        }
      ]
    },
    {
      "cell_type": "markdown",
      "metadata": {
        "id": "iPYLCBuE5rHj"
      },
      "source": [
        "**Formas de hacer documentacion en programacion y por bloques de codigo o linea**\n",
        "\n",
        "----\n",
        "\n",
        "\n"
      ]
    },
    {
      "cell_type": "code",
      "metadata": {
        "colab": {
          "base_uri": "https://localhost:8080/"
        },
        "id": "4PmYWmke58q1",
        "outputId": "2338605c-86ac-4226-d36d-bd7d47026066"
      },
      "source": [
        "def paula(a,b):\n",
        "\n",
        "  \"\"\"\n",
        "  Descripción de la función, los parámetros que se van a usar,\n",
        "  explicar como se usa y que operaciones devuelve esta función\n",
        "  \"\"\"\n",
        "  return a+b\n",
        "paula(2,3)\n"
      ],
      "execution_count": 14,
      "outputs": [
        {
          "output_type": "execute_result",
          "data": {
            "text/plain": [
              "5"
            ]
          },
          "metadata": {
            "tags": []
          },
          "execution_count": 14
        }
      ]
    },
    {
      "cell_type": "code",
      "metadata": {
        "colab": {
          "base_uri": "https://localhost:8080/"
        },
        "id": "NZulH4Cz7AvO",
        "outputId": "e6d22663-e21b-4181-a608-a85cbaa9ab66"
      },
      "source": [
        "help(paula)  #para que aparezca comentario"
      ],
      "execution_count": 16,
      "outputs": [
        {
          "output_type": "stream",
          "text": [
            "Help on function paula in module __main__:\n",
            "\n",
            "paula(a, b)\n",
            "    Descripción de la función, los parámetros que se van a usar,\n",
            "    explicar como se usa y que operaciones devuelve esta función\n",
            "\n"
          ],
          "name": "stdout"
        }
      ]
    },
    {
      "cell_type": "code",
      "metadata": {
        "colab": {
          "base_uri": "https://localhost:8080/"
        },
        "id": "IWHoKdHL7PAz",
        "outputId": "8fac7ab5-becf-432e-95f9-42fac20f0dfc"
      },
      "source": [
        "print(paula.__doc__) #Otra forma de llamar el comentario es print (nombre de la función.__doc__) doble raya al piso"
      ],
      "execution_count": 22,
      "outputs": [
        {
          "output_type": "stream",
          "text": [
            "\n",
            "  Descripción de la función, los parámetros que se van a usar,\n",
            "  explicar como se usa y que operaciones devuelve esta función\n",
            "  \n"
          ],
          "name": "stdout"
        }
      ]
    },
    {
      "cell_type": "markdown",
      "metadata": {
        "id": "wlEfFhib8g3l"
      },
      "source": [
        "**Diferencia entre valores y referencias**\n",
        "\n",
        "\n",
        "---\n",
        "Existen dos conceptos de paso por *valor* y por *referencia* que se aplican a la hora de tratar una función\n",
        "\n",
        "1. Si se usa un par{ametro que pasa por valor, se crea una copia local de la variable lo cual implica que cualquier modificación sobre esta no tendrá repercusiones sobre la base original.\n",
        "\n",
        "2. Si la variable pasa como referencia, si actuará directamente sobre la base original"
      ]
    },
    {
      "cell_type": "code",
      "metadata": {
        "colab": {
          "base_uri": "https://localhost:8080/"
        },
        "id": "YYE_rXhQ90aY",
        "outputId": "097d8ac7-6388-4216-992d-f6840a740d12"
      },
      "source": [
        "#ejemplo de paso por **valor**\n",
        "\n",
        "x=3\n",
        "def funcion(w):\n",
        "  w=0\n",
        "funcion(x)\n",
        "print(x)"
      ],
      "execution_count": 32,
      "outputs": [
        {
          "output_type": "stream",
          "text": [
            "3\n"
          ],
          "name": "stdout"
        }
      ]
    },
    {
      "cell_type": "markdown",
      "metadata": {
        "id": "R_rqVBFh-dhj"
      },
      "source": [
        "1. Inicio con x=3\n",
        "2. Se lo pasamos a la función()\n",
        "3. Dentro de esta función hacemos que la variable valga cero\n",
        "4. Dado que pasa como valor, dentro de la función se crea una copia local de x. Por lo cual la variable original no se modifica"
      ]
    },
    {
      "cell_type": "code",
      "metadata": {
        "colab": {
          "base_uri": "https://localhost:8080/"
        },
        "id": "1HSTyNqV7COD",
        "outputId": "3c32705a-d0a3-439a-d85c-94f470d86cda"
      },
      "source": [
        "#Caso ue pasa por \"referencia\"\n",
        "x=[3,6,9,12]\n",
        "def sw(tipo):\n",
        "  tipo.append(50) #para ingresar otros valores a la lista no para tuplas porq no es editable mas que todo para listas y diccionarios\n",
        "sw(x)\n",
        "print(x)"
      ],
      "execution_count": 34,
      "outputs": [
        {
          "output_type": "stream",
          "text": [
            "[3, 6, 9, 12, 50]\n"
          ],
          "name": "stdout"
        }
      ]
    },
    {
      "cell_type": "markdown",
      "metadata": {
        "id": "G3AwXO8hBdIw"
      },
      "source": [
        "**Tipos de funciones**\n",
        "\n",
        "\n",
        "---\n",
        "1. Función Lambda\n",
        "\n",
        "---\n",
        "Son funciones que normalmente se usan para definir el codigo en una sola línea.\n"
      ]
    },
    {
      "cell_type": "code",
      "metadata": {
        "colab": {
          "base_uri": "https://localhost:8080/"
        },
        "id": "1fREqJjlBzxT",
        "outputId": "2a13d28c-008a-4f1a-83eb-f16340997ccc"
      },
      "source": [
        "#Lo que normalmente sería la definición de la función de este estilo:\n",
        "#def suma(a,b,c,d):\n",
        "#    return a+b+c+d\n",
        "#Se puede escribir de la siguiente manera\n",
        "\n",
        "(lambda a,b,c,d : a+b+c+d)(1,2,3,4)\n",
        "\n",
        "luisa=lambda a,b,c,d : a+b+c+d\n",
        "print(luisa(2,3,5,6))\n",
        "\n"
      ],
      "execution_count": 2,
      "outputs": [
        {
          "output_type": "stream",
          "text": [
            "16\n"
          ],
          "name": "stdout"
        }
      ]
    },
    {
      "cell_type": "code",
      "metadata": {
        "colab": {
          "base_uri": "https://localhost:8080/"
        },
        "id": "hm2xgAiJDQVy",
        "outputId": "fd221b9c-a38f-476a-9e06-fe9bc6df287c"
      },
      "source": [
        "#def suma (*number):\n",
        "#  print(type(number))\n",
        "#  total=0\n",
        "#  for i in number:\n",
        "#    total+=i\n",
        "#  return total\n",
        "#suma(2,3,5,4)\n",
        "\n",
        "(lambda *number: sum(number))(1,4,5)"
      ],
      "execution_count": 4,
      "outputs": [
        {
          "output_type": "stream",
          "text": [
            "<class 'tuple'>\n"
          ],
          "name": "stdout"
        },
        {
          "output_type": "execute_result",
          "data": {
            "text/plain": [
              "10"
            ]
          },
          "metadata": {
            "tags": []
          },
          "execution_count": 4
        }
      ]
    },
    {
      "cell_type": "code",
      "metadata": {
        "colab": {
          "base_uri": "https://localhost:8080/"
        },
        "id": "Ti3GC1s0EV4M",
        "outputId": "d8caa66d-aecd-49b1-fd2d-bb6e9c1bd8bb"
      },
      "source": [
        "(lambda **number: sum(number.values()))(a=1,b=4, c=10)"
      ],
      "execution_count": 7,
      "outputs": [
        {
          "output_type": "execute_result",
          "data": {
            "text/plain": [
              "15"
            ]
          },
          "metadata": {
            "tags": []
          },
          "execution_count": 7
        }
      ]
    },
    {
      "cell_type": "code",
      "metadata": {
        "colab": {
          "base_uri": "https://localhost:8080/"
        },
        "id": "hcBZWeJREtaK",
        "outputId": "70565cd7-a950-4e3f-b31a-acdadc589789"
      },
      "source": [
        "lorena=lambda a,b,c,d:(a,b,c,d)\n",
        "print(lorena(3,4,5,5))  #Este es conjunto"
      ],
      "execution_count": 9,
      "outputs": [
        {
          "output_type": "stream",
          "text": [
            "(3, 4, 5, 5)\n"
          ],
          "name": "stdout"
        }
      ]
    },
    {
      "cell_type": "markdown",
      "metadata": {
        "id": "1KBE9_qGFrAT"
      },
      "source": [
        "**RECURSIVIDAD**\n",
        "---\n",
        "---\n",
        "\n",
        "Las características de una función recursiva son las siguientes:\n",
        "1. Sección en que se llama a sí misma.\n",
        "2. Sección del bloque de código donde este la condición que implique retornar sin volver a llamarse(IMPORTANTE)\n",
        "\n",
        "Los ejemplos tradicionales de Recursividad son la apliación de **cálculo factorial** y la **serie de fibonacci.**\n",
        "\n",
        "**1.Cálculo factorial**\n",
        "\n",
        "en matemáticas definimos factorial como la multiplicación de todos sus números predecesores hasta llegar a uno:\n",
        "Ejemplo:\n",
        "5!= 5*4*3*2*1\n",
        "100!=100*99*98*97....1\n",
        "\n"
      ]
    },
    {
      "cell_type": "code",
      "metadata": {
        "colab": {
          "base_uri": "https://localhost:8080/"
        },
        "id": "buyf4Wg2J1T0",
        "outputId": "244d0a3b-931c-4e2b-cefa-201ac85b0bac"
      },
      "source": [
        "#Apliquemos un enfoque no recursivo de calculo factorial\n",
        "\n",
        "def factorial(n):\n",
        "  w=1\n",
        "  i=2\n",
        "  while i<=n:\n",
        "    w *=i\n",
        "    i +=1\n",
        "  return w\n",
        "factorial(5)"
      ],
      "execution_count": 12,
      "outputs": [
        {
          "output_type": "execute_result",
          "data": {
            "text/plain": [
              "120"
            ]
          },
          "metadata": {
            "tags": []
          },
          "execution_count": 12
        }
      ]
    },
    {
      "cell_type": "code",
      "metadata": {
        "colab": {
          "base_uri": "https://localhost:8080/"
        },
        "id": "53tnwPsSJfpd",
        "outputId": "2afae19d-398e-4333-e990-5a2be7e4df65"
      },
      "source": [
        "#Definimos factorial recursivo\n",
        "\n",
        "def recursivofac(n):\n",
        "  if n==1:\n",
        "    return 1\n",
        "  else:\n",
        "    return n*recursivofac(n-1)\n",
        "recursivofac(5)"
      ],
      "execution_count": 11,
      "outputs": [
        {
          "output_type": "execute_result",
          "data": {
            "text/plain": [
              "120"
            ]
          },
          "metadata": {
            "tags": []
          },
          "execution_count": 11
        }
      ]
    },
    {
      "cell_type": "markdown",
      "metadata": {
        "id": "godT9ahMRLVH"
      },
      "source": [
        "A continuación completamos los tipos de generadores:\n",
        "1. Return\n",
        "2. Yield"
      ]
    },
    {
      "cell_type": "code",
      "metadata": {
        "colab": {
          "base_uri": "https://localhost:8080/"
        },
        "id": "Jul-yaA0KitW",
        "outputId": "bae38a9b-94c7-4d5f-bd08-02f989f1faef"
      },
      "source": [
        "def s():\n",
        "  yield 4\n",
        "s()"
      ],
      "execution_count": 13,
      "outputs": [
        {
          "output_type": "execute_result",
          "data": {
            "text/plain": [
              "<generator object s at 0x7fe52da21150>"
            ]
          },
          "metadata": {
            "tags": []
          },
          "execution_count": 13
        }
      ]
    },
    {
      "cell_type": "markdown",
      "metadata": {
        "id": "KoZ5j9CKRjqY"
      },
      "source": [
        "Cuando usamos el return, nos devuelve el numero 4,k pero cual usamos el yield lo que devuelve es un objeto de clase (generator)"
      ]
    }
  ]
}