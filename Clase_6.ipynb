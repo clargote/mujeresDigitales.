{
  "nbformat": 4,
  "nbformat_minor": 0,
  "metadata": {
    "colab": {
      "name": "Clase 6.ipynb",
      "provenance": [],
      "authorship_tag": "ABX9TyOm4Wnw2s7BEYhi5T14hU+N",
      "include_colab_link": true
    },
    "kernelspec": {
      "name": "python3",
      "display_name": "Python 3"
    },
    "language_info": {
      "name": "python"
    }
  },
  "cells": [
    {
      "cell_type": "markdown",
      "metadata": {
        "id": "view-in-github",
        "colab_type": "text"
      },
      "source": [
        "<a href=\"https://colab.research.google.com/github/clargote/mujeresDigitales/blob/main/Clase_6.ipynb\" target=\"_parent\"><img src=\"https://colab.research.google.com/assets/colab-badge.svg\" alt=\"Open In Colab\"/></a>"
      ]
    },
    {
      "cell_type": "markdown",
      "metadata": {
        "id": "L6i3D28Iop-Q"
      },
      "source": [
        "**CONTINUACIÓN DE LOS EJEMPLOS DEL USO DE LISTA DE COMPRENSIÓN**\n",
        "\n",
        "---\n",
        "\n",
        "COMPRENSIÓN DE CONJUNTOS\n",
        "\n",
        "\n",
        "---\n",
        "La comprensión de conjuntos es muy similar a la que veniamos manejando con listas. La única diferencia es que se usa los corchetes { }\n",
        "\n",
        "\n",
        "Recordemos que los conjuntos tambien denominados **sets** no permiten duplicados, es decir cada elemento es único. Si se llega añadir un elemento repetitivo no arrojará error pero no se mostrará en el print.\n"
      ]
    },
    {
      "cell_type": "code",
      "metadata": {
        "colab": {
          "base_uri": "https://localhost:8080/"
        },
        "id": "m9wzk5SRpl4A",
        "outputId": "27bb8b1d-ae6b-4485-e0be-1efc94893e15"
      },
      "source": [
        "sa=\"ema ama a mama\"    # como los conjuntos no aceptan valores repetitivos sino una sola vez, caso contarrio la lista, si lo nombro como [] si lo hace\n",
        "sa2={i for i in sa if i==\"m\"}\n",
        "print(sa2)"
      ],
      "execution_count": null,
      "outputs": [
        {
          "output_type": "stream",
          "text": [
            "{'m'}\n"
          ],
          "name": "stdout"
        }
      ]
    },
    {
      "cell_type": "markdown",
      "metadata": {
        "id": "D0gv97y2qa6Q"
      },
      "source": [
        "Ahora, veamos a continuación el caso de diccionarios de comprensión.  La única diferencia que tiene respecto a las listas o conjuntos de comprensión es la especificación de llaves o claves(key)."
      ]
    },
    {
      "cell_type": "code",
      "metadata": {
        "colab": {
          "base_uri": "https://localhost:8080/"
        },
        "id": "ZhL15WuOq0De",
        "outputId": "45353b47-f353-4540-cd24-2d7a63ba0ec6"
      },
      "source": [
        "lista1=[\"nombre\",\"apellido\",\"ciudad\"]  #tiene las etiquetas, las claves\n",
        "lista2=[\"Ana\", \"Rodriguez\",\"Popayan\"]\n",
        "\n",
        "dict={i:j for i,j in zip(lista1,lista2)} # zip ayuda a agrupar dos listas\n",
        "print(dict)"
      ],
      "execution_count": null,
      "outputs": [
        {
          "output_type": "stream",
          "text": [
            "{'nombre': 'Ana', 'apellido': 'Rodriguez', 'ciudad': 'Popayan'}\n"
          ],
          "name": "stdout"
        }
      ]
    },
    {
      "cell_type": "markdown",
      "metadata": {
        "id": "CxPb0FLOr2wb"
      },
      "source": [
        "Pudimos observar que añadiendo:\n",
        "Asignamos un valor a la llave declarada, a su vez, usamos **zip()** el cual tiene como función iterar dos listas en paralelo. Es decir con zip podemos convertir dos listas en un diccionario y el for se manejaría iterando dos valores en simultaneo."
      ]
    },
    {
      "cell_type": "markdown",
      "metadata": {
        "id": "dVEsTUKlsfBM"
      },
      "source": [
        "**OTRAS ESTRUCTURAS DE CONTROL**\n",
        "\n",
        "\n",
        "---\n",
        "1. Switch\n",
        "2. Brak\n",
        "3. Continue\n",
        "4. Complemento de iteración (Enumerate)\n",
        "\n",
        "**1. Switch**\n",
        "El switch es una herramienta permite ejecutar diferentes secciones de código dependiendo de las condiciones impuestas.\n",
        "Su función es muy similar a usar if anidados o varios if por separado al mismo tiempo.\n",
        "\n",
        "Sin embargo, en Python no hay un switch directo.\n",
        "\n",
        "\n",
        "**2. Break**\n",
        "\n",
        "Nos permite alterar el comportamiento de los ciclos de *while* y *for*. Directamente su función es la de finalizar los ciclos."
      ]
    },
    {
      "cell_type": "code",
      "metadata": {
        "colab": {
          "base_uri": "https://localhost:8080/"
        },
        "id": "BuvJCC6_tzj5",
        "outputId": "3e223e21-fb3f-4680-b541-a197b14fafde"
      },
      "source": [
        "x=\"Andrea\"\n",
        "for i in x:\n",
        "  if i==\"e\":\n",
        "   print(\"Se obtuvo la letra e\")\n",
        "   break\n",
        "  print(i)"
      ],
      "execution_count": null,
      "outputs": [
        {
          "output_type": "stream",
          "text": [
            "A\n",
            "n\n",
            "d\n",
            "r\n",
            "Se obtuvo la letra e\n"
          ],
          "name": "stdout"
        }
      ]
    },
    {
      "cell_type": "code",
      "metadata": {
        "colab": {
          "base_uri": "https://localhost:8080/"
        },
        "id": "esW2mbMMvo4P",
        "outputId": "03dd2c15-84eb-4089-b48c-6806b1a7bccc"
      },
      "source": [
        "x=15\n",
        "while True:\n",
        "  x -=1\n",
        "  print(x)\n",
        "  if x==0:\n",
        "   break\n",
        "print(\"se finaliza el ciclo\")"
      ],
      "execution_count": null,
      "outputs": [
        {
          "output_type": "stream",
          "text": [
            "14\n",
            "13\n",
            "12\n",
            "11\n",
            "10\n",
            "9\n",
            "8\n",
            "7\n",
            "6\n",
            "5\n",
            "4\n",
            "3\n",
            "2\n",
            "1\n",
            "0\n",
            "se finaliza el ciclo\n"
          ],
          "name": "stdout"
        }
      ]
    },
    {
      "cell_type": "code",
      "metadata": {
        "id": "UNNbZNHcwHuf"
      },
      "source": [
        "# uso de break con los ciclos anidados:\n"
      ],
      "execution_count": null,
      "outputs": []
    },
    {
      "cell_type": "code",
      "metadata": {
        "colab": {
          "base_uri": "https://localhost:8080/"
        },
        "id": "ysYzkbh0ryQc",
        "outputId": "1f6054f8-f70a-41da-88f2-4738c8716167"
      },
      "source": [
        "for i in range(1,8):\n",
        "  for j in range(1,8):\n",
        "   break\n",
        "  print(i,j)\n",
        "\n",
        "#El break no afecta el for exterior. Rompe el ciclo anidado en su conjunto, pero no afecta directamente el ciclo del exterior."
      ],
      "execution_count": null,
      "outputs": [
        {
          "output_type": "stream",
          "text": [
            "1 1\n",
            "2 1\n",
            "3 1\n",
            "4 1\n",
            "5 1\n",
            "6 1\n",
            "7 1\n"
          ],
          "name": "stdout"
        }
      ]
    },
    {
      "cell_type": "markdown",
      "metadata": {
        "id": "VAEL3ovXx0TY"
      },
      "source": [
        "**3. continue**\n",
        "\n",
        "---\n",
        "El *continue* se salta todo el código restante en la iteración actual y vuelve al principio en caso que queden elementos por iterar.\n",
        "\n",
        "Diferencias entre break y continue:\n",
        "La printipal diferencia es que el continue NO rompe el ciclo si no que pasa a la iteración pendiente."
      ]
    },
    {
      "cell_type": "code",
      "metadata": {
        "colab": {
          "base_uri": "https://localhost:8080/"
        },
        "id": "-XoP72z-yZ4a",
        "outputId": "10592053-b336-4139-de01-59960a3707af"
      },
      "source": [
        "x=\"Andrea\"\n",
        "for i in x:\n",
        "    if i==\"r\": # cuando llega a r se lo salta y sigue iterando\n",
        "      continue\n",
        "    print(i)"
      ],
      "execution_count": null,
      "outputs": [
        {
          "output_type": "stream",
          "text": [
            "A\n",
            "n\n",
            "d\n",
            "a\n"
          ],
          "name": "stdout"
        }
      ]
    },
    {
      "cell_type": "code",
      "metadata": {
        "colab": {
          "base_uri": "https://localhost:8080/"
        },
        "id": "K62zNCtHytY2",
        "outputId": "9f2ab78c-e485-4016-8137-5628d3346ea9"
      },
      "source": [
        "x=15\n",
        "while x>0:\n",
        "  x-=1\n",
        "  if x==3:\n",
        "    continue\n",
        "  print(x)"
      ],
      "execution_count": null,
      "outputs": [
        {
          "output_type": "stream",
          "text": [
            "14\n",
            "13\n",
            "12\n",
            "11\n",
            "10\n",
            "9\n",
            "8\n",
            "7\n",
            "6\n",
            "5\n",
            "4\n",
            "2\n",
            "1\n",
            "0\n"
          ],
          "name": "stdout"
        }
      ]
    },
    {
      "cell_type": "markdown",
      "metadata": {
        "id": "hWzgrfK9zf79"
      },
      "source": [
        "**Iterar con enumerate**\n",
        "\n",
        "\n",
        "---\n",
        "Python nos permite iterar colecciones de objetos y elementos de la misma forma. Sin embargo, hay una opción que es que en algunas situaciones que queramos acceder a un elemento ordenado podemos hacerlo nombrando el índice de cada elemento llamado"
      ]
    },
    {
      "cell_type": "code",
      "metadata": {
        "colab": {
          "base_uri": "https://localhost:8080/"
        },
        "id": "fKyWDOEuza1S",
        "outputId": "0bae0808-88b0-4a57-c827-14282c5292bd"
      },
      "source": [
        "w=[\"sa\",\"se\",\"si\",\"so\",\"su\"] #tenemos aqui una lista\n",
        "indice=0\n",
        "for i in w:\n",
        "  print(indice,i)\n",
        "  indice+=1"
      ],
      "execution_count": null,
      "outputs": [
        {
          "output_type": "stream",
          "text": [
            "0 sa\n",
            "1 se\n",
            "2 si\n",
            "3 so\n",
            "4 su\n"
          ],
          "name": "stdout"
        }
      ]
    },
    {
      "cell_type": "code",
      "metadata": {
        "id": "npQvDpLFzecg"
      },
      "source": [
        ""
      ],
      "execution_count": null,
      "outputs": []
    },
    {
      "cell_type": "code",
      "metadata": {
        "colab": {
          "base_uri": "https://localhost:8080/"
        },
        "id": "pvmxsJH60lWW",
        "outputId": "6f929594-6550-4972-85c6-56c74b4d619c"
      },
      "source": [
        "w=[\"sa\",\"se\",\"si\",\"so\",\"su\"] #tenemos aqui una lista\n",
        "for indice, i in enumerate(w): #indice siempre aparecerá desde defecto por 0, en caso contrario usar el ejemplo anterior\n",
        "  print(indice,i)"
      ],
      "execution_count": null,
      "outputs": [
        {
          "output_type": "stream",
          "text": [
            "0 sa\n",
            "1 se\n",
            "2 si\n",
            "3 so\n",
            "4 su\n"
          ],
          "name": "stdout"
        }
      ]
    },
    {
      "cell_type": "code",
      "metadata": {
        "colab": {
          "base_uri": "https://localhost:8080/"
        },
        "id": "i29GHPIn1EEe",
        "outputId": "a1f8ecfb-fc83-432f-8948-531e82340eed"
      },
      "source": [
        "w=[\"sa\",\"se\",\"si\",\"so\",\"su\"] #tenemos aqui una lista\n",
        "x=list(enumerate(w))\n",
        "print(x)"
      ],
      "execution_count": null,
      "outputs": [
        {
          "output_type": "stream",
          "text": [
            "[(0, 'sa'), (1, 'se'), (2, 'si'), (3, 'so'), (4, 'su')]\n"
          ],
          "name": "stdout"
        }
      ]
    },
    {
      "cell_type": "markdown",
      "metadata": {
        "id": "K2SvjZBm1o6i"
      },
      "source": [
        "**Uso zip()**\n",
        "\n",
        "---\n",
        "Si pasamos dos listas a zip, el resultado sera una tupla donde cada elemento tendrá todos y cada un o de los elementos de las entradas"
      ]
    },
    {
      "cell_type": "code",
      "metadata": {
        "colab": {
          "base_uri": "https://localhost:8080/"
        },
        "id": "Zu-3Yq8K2EI1",
        "outputId": "f326d7b1-e0cd-4866-f422-a1650d13f9e9"
      },
      "source": [
        "a=[1,2,3]\n",
        "b=[\"a\",\"b\",\"c\"]\n",
        "c=zip(a,b)\n",
        "print(list(c)) # para ver la lista toca poner list sino solo me va avisar que es de tipo zip\n"
      ],
      "execution_count": null,
      "outputs": [
        {
          "output_type": "stream",
          "text": [
            "[(1, 'a'), (2, 'b'), (3, 'c')]\n"
          ],
          "name": "stdout"
        }
      ]
    },
    {
      "cell_type": "code",
      "metadata": {
        "id": "HiFO4sJ42mPl"
      },
      "source": [
        "a=[1,2,3]\n",
        "b=[\"a\",\"b\",\"c\"]\n",
        "for i,j in  zip(a,b):\n",
        "  print=(\"Numero\", i, \"letras\", j)\n"
      ],
      "execution_count": null,
      "outputs": []
    },
    {
      "cell_type": "code",
      "metadata": {
        "colab": {
          "base_uri": "https://localhost:8080/"
        },
        "id": "oNSgohB-3LsM",
        "outputId": "adf18515-5639-4551-90f2-b3477854a5e6"
      },
      "source": [
        "a=[1,2,3]\n",
        "b=[\"a\",\"b\",\"c\"]\n",
        "x=(\"q\",\"w\",\"e\")\n",
        "z=(10,20,30)\n",
        "for lu,la,le,li in zip(a,b,  x,z):\n",
        " print(lu,la,le,li)"
      ],
      "execution_count": null,
      "outputs": [
        {
          "output_type": "stream",
          "text": [
            "1 a q 10\n",
            "2 b w 20\n",
            "3 c e 30\n"
          ],
          "name": "stdout"
        }
      ]
    },
    {
      "cell_type": "code",
      "metadata": {
        "colab": {
          "base_uri": "https://localhost:8080/"
        },
        "id": "MFjGO7Ww3KOZ",
        "outputId": "008b4f1c-2abc-4ef8-c5dc-812fa445e1c4"
      },
      "source": [
        "a=[1,2,6]\n",
        "b=[\"a\",\"b\"]\n",
        "\n",
        "for sa,se in zip(a,b):\n",
        " print(sa, se)"
      ],
      "execution_count": null,
      "outputs": [
        {
          "output_type": "stream",
          "text": [
            "1 a\n",
            "2 b\n"
          ],
          "name": "stdout"
        }
      ]
    },
    {
      "cell_type": "code",
      "metadata": {
        "colab": {
          "base_uri": "https://localhost:8080/"
        },
        "id": "K1D7H-an4VY1",
        "outputId": "f09d2709-2a50-4493-93d7-dd7238b27140"
      },
      "source": [
        "\n",
        "c=[(1,\"a\"),(2,\"b\"),(3,'c')]\n",
        "a,b=zip(*c)\n",
        "print(a)\n",
        "print(b)\n",
        "\n"
      ],
      "execution_count": null,
      "outputs": [
        {
          "output_type": "stream",
          "text": [
            "(1, 2, 3)\n",
            "('a', 'b', 'c')\n"
          ],
          "name": "stdout"
        }
      ]
    },
    {
      "cell_type": "markdown",
      "metadata": {
        "id": "zZwep7Uw6Jno"
      },
      "source": [
        "**FUNCIONES**\n",
        "\n",
        "\n",
        "---\n",
        "La función nos permite ordenar de manera adecuada la generación de objetos y bloques de código por ciclos y demás estructuras.\n",
        "\n",
        "La sintaxis es la siguiente:\n",
        "\n",
        "**def** nombre_funcion (argumentos):\n",
        "    \n",
        "        Código\n",
        "nombre_funcion (argumentos2)\n"
      ]
    },
    {
      "cell_type": "code",
      "metadata": {
        "colab": {
          "base_uri": "https://localhost:8080/"
        },
        "id": "2fh4FBsJ6sDF",
        "outputId": "d1e7ca4d-98e8-416a-80c3-d148a091221f"
      },
      "source": [
        "def f(a):\n",
        " return 2*a\n",
        "y=f(3)\n",
        "print(y)"
      ],
      "execution_count": null,
      "outputs": [
        {
          "output_type": "stream",
          "text": [
            "6\n"
          ],
          "name": "stdout"
        }
      ]
    },
    {
      "cell_type": "markdown",
      "metadata": {
        "id": "NTcuLnyr7ddt"
      },
      "source": [
        "Las funciones no sólo realizan una operación con sus entradas (argumentos de inicio), sino tambien parten de los siguientes principios:\n",
        "\n",
        " **1. Reusabilidad** si tenemos un fragmento de código usado en muchos sitios, y se guardan en una función nos evitará tener códigos repetidos. Ademas d ela conveniencia que tiene por ser facilmente editable.\n",
        "\n",
        " **2. Modularidad** Permite legibilidad de forma mas sencilla, es decir, los largos bloques de código se pueden agrupar en modulos o funciones y la lectura va a ser mucho mas sencilla."
      ]
    },
    {
      "cell_type": "code",
      "metadata": {
        "colab": {
          "base_uri": "https://localhost:8080/"
        },
        "id": "zasI5NHA8hxk",
        "outputId": "212f4c51-8a22-45b2-b44e-cbb5621cfbb5"
      },
      "source": [
        "#Ejemplo 1: Función SIN argumentos de entrada ni parametros de salida:\n",
        "\n",
        "def s():\n",
        "  print(\"hi lorena\") # hasta aqui DECLARCIÓN DE LA FUNCIÓN sale chulito verde al ejecutarla\n",
        "s() #Al cerrar la definición de función me va aparecer la ejecución del código\n"
      ],
      "execution_count": null,
      "outputs": [
        {
          "output_type": "stream",
          "text": [
            "hi lorena\n"
          ],
          "name": "stdout"
        }
      ]
    },
    {
      "cell_type": "code",
      "metadata": {
        "colab": {
          "base_uri": "https://localhost:8080/"
        },
        "id": "lewPgjdZ9In0",
        "outputId": "f0918a71-d32f-44a1-e0f9-25931ee742b9"
      },
      "source": [
        "#Ejemplo 2: incluir ARGUMENTOS de entrada\n",
        "\n",
        "def s(apellido):\n",
        "  print(\"Hola Lorena\", apellido) #apelllido no tiene valor alguno\n",
        "s(\"Argote Sanchez\") #cuando se cierrar la funcion le doy un valor de salida\n"
      ],
      "execution_count": null,
      "outputs": [
        {
          "output_type": "stream",
          "text": [
            "Hola Lorena Argote Sanchez\n"
          ],
          "name": "stdout"
        }
      ]
    },
    {
      "cell_type": "code",
      "metadata": {
        "colab": {
          "base_uri": "https://localhost:8080/"
        },
        "id": "SO783xwD9xVH",
        "outputId": "165c4d58-afb7-4c36-dffe-c7e1ac0f49ca"
      },
      "source": [
        "#Ejemplo 3: Usando DOS ARGUMENTOS de entrada y salida y operación aritmetica\n",
        "\n",
        "def suma(a,b):\n",
        "  return a+b #para no hacer declaracion y creacion de objetos de variables se usa asi el return\n",
        "suma(3,5)"
      ],
      "execution_count": null,
      "outputs": [
        {
          "output_type": "execute_result",
          "data": {
            "text/plain": [
              "8"
            ]
          },
          "metadata": {
            "tags": []
          },
          "execution_count": 18
        }
      ]
    },
    {
      "cell_type": "code",
      "metadata": {
        "colab": {
          "base_uri": "https://localhost:8080/",
          "height": 198
        },
        "id": "9VgjDTwb-Vnq",
        "outputId": "2194c948-08e9-4cfd-a71b-601d647344dd"
      },
      "source": [
        "#Error porque no me da dos argumentos de salida. debe ser igual #argumentos_entrada= #argumentos_salida\n",
        "def suma(a,b):\n",
        "  return a+b #para no hacer declaracion y creacion de objetos de variables se usa asi el return\n",
        "suma(3)"
      ],
      "execution_count": null,
      "outputs": [
        {
          "output_type": "error",
          "ename": "TypeError",
          "evalue": "ignored",
          "traceback": [
            "\u001b[0;31m---------------------------------------------------------------------------\u001b[0m",
            "\u001b[0;31mTypeError\u001b[0m                                 Traceback (most recent call last)",
            "\u001b[0;32m<ipython-input-19-7b71d4f350be>\u001b[0m in \u001b[0;36m<module>\u001b[0;34m()\u001b[0m\n\u001b[1;32m      2\u001b[0m \u001b[0;32mdef\u001b[0m \u001b[0msuma\u001b[0m\u001b[0;34m(\u001b[0m\u001b[0ma\u001b[0m\u001b[0;34m,\u001b[0m\u001b[0mb\u001b[0m\u001b[0;34m)\u001b[0m\u001b[0;34m:\u001b[0m\u001b[0;34m\u001b[0m\u001b[0;34m\u001b[0m\u001b[0m\n\u001b[1;32m      3\u001b[0m   \u001b[0;32mreturn\u001b[0m \u001b[0ma\u001b[0m\u001b[0;34m+\u001b[0m\u001b[0mb\u001b[0m \u001b[0;31m#para no hacer declaracion y creacion de objetos de variables se usa asi el return\u001b[0m\u001b[0;34m\u001b[0m\u001b[0;34m\u001b[0m\u001b[0m\n\u001b[0;32m----> 4\u001b[0;31m \u001b[0msuma\u001b[0m\u001b[0;34m(\u001b[0m\u001b[0;36m3\u001b[0m\u001b[0;34m)\u001b[0m\u001b[0;34m\u001b[0m\u001b[0;34m\u001b[0m\u001b[0m\n\u001b[0m",
            "\u001b[0;31mTypeError\u001b[0m: suma() missing 1 required positional argument: 'b'"
          ]
        }
      ]
    },
    {
      "cell_type": "code",
      "metadata": {
        "colab": {
          "base_uri": "https://localhost:8080/"
        },
        "id": "wM4OJnRM-vPw",
        "outputId": "51f7dd01-c67b-4f39-fcb6-6757c1b4a107"
      },
      "source": [
        "#Ejemplo 4: Reusabilidad del código\n",
        "suma(a=5, b=25)   # se esta llamando la funcion suma"
      ],
      "execution_count": null,
      "outputs": [
        {
          "output_type": "execute_result",
          "data": {
            "text/plain": [
              "30"
            ]
          },
          "metadata": {
            "tags": []
          },
          "execution_count": 21
        }
      ]
    },
    {
      "cell_type": "code",
      "metadata": {
        "colab": {
          "base_uri": "https://localhost:8080/"
        },
        "id": "cRt9o8jz_WWw",
        "outputId": "8deca1df-fc99-4691-9ec3-0e5180908a41"
      },
      "source": [
        "#Ejemplo 5: Argumentos FIJOS desde el inicio\n",
        "\n",
        "def suma(a,b,c,d=1):\n",
        "  return a+b+c+d\n",
        "suma(2,3,4)"
      ],
      "execution_count": null,
      "outputs": [
        {
          "output_type": "execute_result",
          "data": {
            "text/plain": [
              "10"
            ]
          },
          "metadata": {
            "tags": []
          },
          "execution_count": 32
        }
      ]
    },
    {
      "cell_type": "code",
      "metadata": {
        "colab": {
          "base_uri": "https://localhost:8080/"
        },
        "id": "v_EUROYzAXzG",
        "outputId": "6da078fe-dd71-4d82-ad4f-844a65e29310"
      },
      "source": [
        "suma(5,6,7,8) #Llamando la funcion del ejercicio 5"
      ],
      "execution_count": null,
      "outputs": [
        {
          "output_type": "execute_result",
          "data": {
            "text/plain": [
              "26"
            ]
          },
          "metadata": {
            "tags": []
          },
          "execution_count": 33
        }
      ]
    },
    {
      "cell_type": "code",
      "metadata": {
        "colab": {
          "base_uri": "https://localhost:8080/"
        },
        "id": "VZcHKo4uAvVT",
        "outputId": "9494da94-3dd5-41db-fbad-dfb57c65b928"
      },
      "source": [
        "def suma(a=2,b=3, c=4,d=5): #Desde el inicio ya estaban declarados\n",
        "  return a+b+c+d\n",
        "suma()\n",
        "\n",
        "suma(1) #me lo cambia en a\n",
        "\n",
        "suma(1,5) #me cambia los valroes de a y b\n",
        "\n",
        "suma(a=1, c=5) #me modifica valores a y c"
      ],
      "execution_count": null,
      "outputs": [
        {
          "output_type": "execute_result",
          "data": {
            "text/plain": [
              "14"
            ]
          },
          "metadata": {
            "tags": []
          },
          "execution_count": 42
        }
      ]
    },
    {
      "cell_type": "code",
      "metadata": {
        "colab": {
          "base_uri": "https://localhost:8080/"
        },
        "id": "7e-azZKTBh0G",
        "outputId": "cfa0a695-9382-47cb-f5a5-bc3af6aa8545"
      },
      "source": [
        "#*Ejemplo 6: Argumentos de longitud variable\n",
        "\n",
        "def suma(number): #usa suma ejercicio anterior\n",
        "  total=0\n",
        "  for i in number:\n",
        "    total +=i\n",
        "  return total\n",
        "suma([1,3,5,4])\n"
      ],
      "execution_count": null,
      "outputs": [
        {
          "output_type": "execute_result",
          "data": {
            "text/plain": [
              "13"
            ]
          },
          "metadata": {
            "tags": []
          },
          "execution_count": 44
        }
      ]
    },
    {
      "cell_type": "markdown",
      "metadata": {
        "id": "u2lkENE8C5IN"
      },
      "source": [
        "Nota: Se realizó la suma de todos los números de entrada. para ello la declaración de los argumentos de salida sería como una lista.\n",
        "\n",
        "La forma de sintaxis anterior es valida, sin embargo tenemos un solo argumento que es una lista de números.\n",
        "\n",
        "Si declarramos un argumento con asterisco * esto hará que el argumento sea guardado como tupla de manera automática."
      ]
    },
    {
      "cell_type": "code",
      "metadata": {
        "colab": {
          "base_uri": "https://localhost:8080/"
        },
        "id": "FaKyzcKKDszb",
        "outputId": "d741489b-3382-4eaf-d102-0f79f65851e7"
      },
      "source": [
        "def suma (*number):\n",
        "  print(type(number))\n",
        "  total=0\n",
        "  for i in number:\n",
        "    total+=i\n",
        "  return total\n",
        "suma(2,3,5,4)"
      ],
      "execution_count": null,
      "outputs": [
        {
          "output_type": "stream",
          "text": [
            "<class 'tuple'>\n"
          ],
          "name": "stdout"
        },
        {
          "output_type": "execute_result",
          "data": {
            "text/plain": [
              "14"
            ]
          },
          "metadata": {
            "tags": []
          },
          "execution_count": 48
        }
      ]
    }
  ]
}