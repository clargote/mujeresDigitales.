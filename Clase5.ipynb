{
  "nbformat": 4,
  "nbformat_minor": 0,
  "metadata": {
    "colab": {
      "name": "Clase5.ipynb",
      "provenance": [],
      "authorship_tag": "ABX9TyNS5brCVvQ/nB41hDP+gNya",
      "include_colab_link": true
    },
    "kernelspec": {
      "name": "python3",
      "display_name": "Python 3"
    },
    "language_info": {
      "name": "python"
    }
  },
  "cells": [
    {
      "cell_type": "markdown",
      "metadata": {
        "id": "view-in-github",
        "colab_type": "text"
      },
      "source": [
        "<a href=\"https://colab.research.google.com/github/clargote/mujeresDigitales/blob/main/Clase5.ipynb\" target=\"_parent\"><img src=\"https://colab.research.google.com/assets/colab-badge.svg\" alt=\"Open In Colab\"/></a>"
      ]
    },
    {
      "cell_type": "markdown",
      "metadata": {
        "id": "FZNKGlexptZ_"
      },
      "source": [
        "**Continuación de Ciclos**\n",
        "\n",
        "---\n",
        "**Ciclo FOR  -  bucle FOR"
      ]
    },
    {
      "cell_type": "code",
      "metadata": {
        "colab": {
          "base_uri": "https://localhost:8080/"
        },
        "id": "_FMUhL9VZ5PM",
        "outputId": "b79138b8-0688-470e-d925-aca5c7ec1517"
      },
      "source": [
        "for i in range(1,5): (no toma el 5 es menos 1)\n",
        "  print(i)"
      ],
      "execution_count": null,
      "outputs": [
        {
          "output_type": "stream",
          "text": [
            "1\n",
            "2\n",
            "3\n",
            "4\n"
          ],
          "name": "stdout"
        }
      ]
    },
    {
      "cell_type": "markdown",
      "metadata": {
        "id": "E2uHPeYDqMYh"
      },
      "source": [
        "Para dejar claro las partes que compoenen el bucle FOR, vamos a dejar claro las siguientes definiciones:\n",
        "\n",
        "1. **Iterable**: Los objetos que pueden ser iterados. Por ejemplo una lista, valor tipo cadena, etc.\n",
        "2. **Iterador**:Son objetos que hacen referencia a un elemento (Para hacer referencia a cada uno de los elementos hay un método denominado **next** que permite hacer referencia a los elementos del conjunto.\n",
        "\n",
        "**for (variable) in (iterable):  \n",
        "      <Bloque código> #debe un rango de varios elementos en el iterable\n",
        "\n",
        "Algunos ejemplos de iterables en Python son las listas, cadenas, diccionarios, tuplas, etc.\n",
        "\n",
        "\n",
        "¿Cómo saber que es ITERABLE a la hora de programar?\n",
        "Podemos darnos cuenta que es iterable usando la función **isinstance**"
      ]
    },
    {
      "cell_type": "code",
      "metadata": {
        "colab": {
          "base_uri": "https://localhost:8080/"
        },
        "id": "NxB7EZ1er32c",
        "outputId": "e77fe952-721b-4201-da4a-afbe2d91fa3c"
      },
      "source": [
        "from collections import Iterable #Paquete iterable de Collections (phyton 3.7) Kermel\n",
        "\n",
        "\n",
        "lista=[1,2,3,4,5,6,7,8,9,0]\n",
        "a=\"computador\"\n",
        "b=10\n",
        "print(isinstance(lista,Iterable))\n",
        "print(isinstance(a,Iterable))\n",
        "print(isinstance(b,Iterable))\n",
        "\n"
      ],
      "execution_count": null,
      "outputs": [
        {
          "output_type": "stream",
          "text": [
            "True\n",
            "True\n",
            "False\n"
          ],
          "name": "stdout"
        }
      ]
    },
    {
      "cell_type": "code",
      "metadata": {
        "colab": {
          "base_uri": "https://localhost:8080/",
          "height": 198
        },
        "id": "bar09rt6vVwI",
        "outputId": "a3442204-aa09-4be7-a9aa-7f27a8e221e5"
      },
      "source": [
        "a=30   #asi es el error con un int\n",
        "for i in (a): \n",
        "  print(i)\n"
      ],
      "execution_count": null,
      "outputs": [
        {
          "output_type": "error",
          "ename": "TypeError",
          "evalue": "ignored",
          "traceback": [
            "\u001b[0;31m---------------------------------------------------------------------------\u001b[0m",
            "\u001b[0;31mTypeError\u001b[0m                                 Traceback (most recent call last)",
            "\u001b[0;32m<ipython-input-21-ee85aa1d0cdd>\u001b[0m in \u001b[0;36m<module>\u001b[0;34m()\u001b[0m\n\u001b[1;32m      1\u001b[0m \u001b[0ma\u001b[0m\u001b[0;34m=\u001b[0m\u001b[0;36m30\u001b[0m\u001b[0;34m\u001b[0m\u001b[0;34m\u001b[0m\u001b[0m\n\u001b[0;32m----> 2\u001b[0;31m \u001b[0;32mfor\u001b[0m \u001b[0mi\u001b[0m \u001b[0;32min\u001b[0m \u001b[0;34m(\u001b[0m\u001b[0ma\u001b[0m\u001b[0;34m)\u001b[0m\u001b[0;34m:\u001b[0m\u001b[0;34m\u001b[0m\u001b[0;34m\u001b[0m\u001b[0m\n\u001b[0m\u001b[1;32m      3\u001b[0m   \u001b[0mprint\u001b[0m\u001b[0;34m(\u001b[0m\u001b[0mi\u001b[0m\u001b[0;34m)\u001b[0m\u001b[0;34m\u001b[0m\u001b[0;34m\u001b[0m\u001b[0m\n",
            "\u001b[0;31mTypeError\u001b[0m: 'int' object is not iterable"
          ]
        }
      ]
    },
    {
      "cell_type": "markdown",
      "metadata": {
        "id": "25ocqhp7vlNl"
      },
      "source": [
        "Para entender los iteradores es importante conocer la función **iter()**. Esta funcion puede ser llamada sobre un objeto que sea iterable y nos devolverá un iterador. \n",
        "\n",
        "Ejemplo:"
      ]
    },
    {
      "cell_type": "code",
      "metadata": {
        "colab": {
          "base_uri": "https://localhost:8080/"
        },
        "id": "82eYIXUiv_CJ",
        "outputId": "6bbd58b8-b8e7-414c-877d-6e6ff52a3e7a"
      },
      "source": [
        "lista=[1,2,3,4,5,6,7,8,9,0]\n",
        "ref=iter(lista)\n",
        "print(ref)\n",
        "print(type(ref))"
      ],
      "execution_count": null,
      "outputs": [
        {
          "output_type": "stream",
          "text": [
            "<list_iterator object at 0x7f4ab9a8ec10>\n",
            "<class 'list_iterator'>\n"
          ],
          "name": "stdout"
        }
      ]
    },
    {
      "cell_type": "markdown",
      "metadata": {
        "id": "Hn0HcSVMwZHY"
      },
      "source": [
        "Al imprimir ref es un iterador de la clase *list_iterador*. Hace referncia a la lista original y nos permite acceder a sus elementos con la función *next()*. Cada vez que llamemos a next() sobre ref, nos devuelve el siguiente elemento de la lista original.\n",
        "Si por ejemplo quiero acceder  al elemento 7 tendremos que llamar 7 veces a next()"
      ]
    },
    {
      "cell_type": "code",
      "metadata": {
        "colab": {
          "base_uri": "https://localhost:8080/"
        },
        "id": "KDffW8cYwriQ",
        "outputId": "242949db-4072-4dd1-c819-9a987aa017ae"
      },
      "source": [
        "lista=[1,2,3,4,5,6,7,8,9,0]\n",
        "ref=iter(lista)\n",
        "print(next(ref))\n",
        "print(next(ref))\n",
        "print(next(ref))\n",
        "print(next(ref))\n",
        "print(next(ref))\n",
        "print(next(ref))\n",
        "print(next(ref))\n",
        "print(next(ref))\n",
        "print(next(ref))"
      ],
      "execution_count": null,
      "outputs": [
        {
          "output_type": "stream",
          "text": [
            "1\n",
            "2\n",
            "3\n",
            "4\n",
            "5\n",
            "6\n",
            "7\n",
            "8\n",
            "9\n"
          ],
          "name": "stdout"
        }
      ]
    },
    {
      "cell_type": "code",
      "metadata": {
        "id": "U4C3ixVjwA_V"
      },
      "source": [
        ""
      ],
      "execution_count": null,
      "outputs": []
    },
    {
      "cell_type": "markdown",
      "metadata": {
        "id": "kOu9Xr0GxbsI"
      },
      "source": [
        "**Tener en cuenta**\n",
        "Existen otros iteradores para las diferentes clases:\n",
        "\n",
        "1. str_iterator para cadenas\n",
        "2. list_iterator para listas\n",
        "3. set_iterator para conjuntos\n",
        "4. dict_keyiterator para diccionarios"
      ]
    },
    {
      "cell_type": "markdown",
      "metadata": {
        "id": "2K4TPL6ZyBDH"
      },
      "source": [
        "**For anidados**\n",
        "\n",
        "---\n",
        "Es posible anidar los FOR, es decir ingresar uno dentro de otro, como lo vemos a continuación.\n"
      ]
    },
    {
      "cell_type": "code",
      "metadata": {
        "colab": {
          "base_uri": "https://localhost:8080/"
        },
        "id": "0Az8HyU1yPIW",
        "outputId": "4ae758e3-e576-41b8-a6f5-5436d55e7949"
      },
      "source": [
        "#Vamos a crear una lista de listas lo cual conforma una especie de matriz\n",
        "#Recordemos que una matriz se compone de valores que se distribuyen en filas y columnas\n",
        "\n",
        "qa=[[1,2,3],\n",
        "    [4,5,6],\n",
        "    [7,8,9]]\n",
        "\n",
        "\n",
        "for i in qa:\n",
        "  print(i)\n",
        "\n",
        "for i in qa:\n",
        "  for j in i:\n",
        "    print(j)\n"
      ],
      "execution_count": null,
      "outputs": [
        {
          "output_type": "stream",
          "text": [
            "[1, 2, 3]\n",
            "[4, 5, 6]\n",
            "[7, 8, 9]\n",
            "1\n",
            "2\n",
            "3\n",
            "4\n",
            "5\n",
            "6\n",
            "7\n",
            "8\n",
            "9\n"
          ],
          "name": "stdout"
        }
      ]
    },
    {
      "cell_type": "markdown",
      "metadata": {
        "id": "1qIJbMf7zRJF"
      },
      "source": [
        "Si queremos acceder a cada elemento individualmente, se procede a realizar un bucle de FOR anidado; es decir, un for se encargará de iterar las columnas, y el otro las filas."
      ]
    },
    {
      "cell_type": "code",
      "metadata": {
        "colab": {
          "base_uri": "https://localhost:8080/"
        },
        "id": "86wV3X_zz3Z_",
        "outputId": "eb037f78-b07e-4c75-b4fc-5dcf4164c19d"
      },
      "source": [
        "#otra forma de usar solo el for, es la iteración al revés. Es decir se puede iterar la lista desde el ultimo al primer elemento\n",
        "lista=[1,2,3,4,5,6,7,8,9,0]\n",
        "for i in lista[::-1]:\n",
        "    print(i)"
      ],
      "execution_count": null,
      "outputs": [
        {
          "output_type": "stream",
          "text": [
            "0\n",
            "9\n",
            "8\n",
            "7\n",
            "6\n",
            "5\n",
            "4\n",
            "3\n",
            "2\n",
            "1\n"
          ],
          "name": "stdout"
        }
      ]
    },
    {
      "cell_type": "code",
      "metadata": {
        "colab": {
          "base_uri": "https://localhost:8080/"
        },
        "id": "Ehs2JW6n0dbh",
        "outputId": "dd94dbab-950d-4b53-842f-0524d04918bc"
      },
      "source": [
        "\n",
        "#otra forma de usar haciendo un salto\n",
        "lista=[1,2,3,4,5,6,7,8,9,0]\n",
        "for i in lista[::2]:\n",
        "    print(i)\n",
        "\n",
        "a=\"computador\"\n",
        "for i in a[::2]:\n",
        "  print(\"\\n\",i)\n",
        "\n",
        "for i in a[::4]:\n",
        "  print(\"\\n\",i)"
      ],
      "execution_count": null,
      "outputs": [
        {
          "output_type": "stream",
          "text": [
            "1\n",
            "3\n",
            "5\n",
            "7\n",
            "9\n",
            "\n",
            " c\n",
            "\n",
            " m\n",
            "\n",
            " u\n",
            "\n",
            " a\n",
            "\n",
            " o\n",
            "\n",
            " c\n",
            "\n",
            " u\n",
            "\n",
            " o\n"
          ],
          "name": "stdout"
        }
      ]
    },
    {
      "cell_type": "code",
      "metadata": {
        "colab": {
          "base_uri": "https://localhost:8080/"
        },
        "id": "4aTZjLuN107l",
        "outputId": "ca4190d7-a014-49b6-afbf-fb38c73a6da7"
      },
      "source": [
        "#usando rangos\n",
        "\n",
        "for i in range(10):    \n",
        "   print(i)\n",
        "\n",
        "#El range() genera una secuencia de números que van desde 0 por defecto hasta el número que se pasa como parámetro menos 2.\n",
        "\n",
        "#Estructura: range(inicio,fin,salto)\n",
        "\n",
        "#observemos un truco con el range:\n",
        "print(list(range(2,10,2)))  #conversión de un rango en una lista"
      ],
      "execution_count": null,
      "outputs": [
        {
          "output_type": "stream",
          "text": [
            "0\n",
            "1\n",
            "2\n",
            "3\n",
            "4\n",
            "5\n",
            "6\n",
            "7\n",
            "8\n",
            "9\n",
            "[2, 4, 6, 8]\n"
          ],
          "name": "stdout"
        }
      ]
    },
    {
      "cell_type": "markdown",
      "metadata": {
        "id": "L0cIOLDR3d5J"
      },
      "source": [
        "**Lista de comprensión**\n",
        "\n",
        "---\n",
        "Estas nos permiten crear listas de elementos en una sola línea de código.\n",
        "\n",
        "Ejemplo: Crear una lista de las potencias a la 3 de los números impares de 0 a 9\n"
      ]
    },
    {
      "cell_type": "code",
      "metadata": {
        "colab": {
          "base_uri": "https://localhost:8080/"
        },
        "id": "xN46p_6w382P",
        "outputId": "ea52fbac-a2de-4ca0-860f-91ad6ba8968b"
      },
      "source": [
        "tres=[i**3 for i in range(1,10,2)]\n",
        "#1,3,5,7,9\n",
        "print(tres)\n",
        "\n",
        "tres=[]\n",
        "for i in range(1,10,2):\n",
        "  tres.append(i**3)\n",
        "  print(i,tres)\n"
      ],
      "execution_count": null,
      "outputs": [
        {
          "output_type": "stream",
          "text": [
            "[1, 27, 125, 343, 729]\n",
            "1 [1]\n",
            "3 [1, 27]\n",
            "5 [1, 27, 125]\n",
            "7 [1, 27, 125, 343]\n",
            "9 [1, 27, 125, 343, 729]\n"
          ],
          "name": "stdout"
        }
      ]
    },
    {
      "cell_type": "code",
      "metadata": {
        "colab": {
          "base_uri": "https://localhost:8080/"
        },
        "id": "vnNuQtdO55zb",
        "outputId": "0a4253ae-7ec4-41b0-a77a-2127a285636e"
      },
      "source": [
        "s=[1 for i in range(10)]\n",
        "print(s)\n",
        "\n",
        "s=[3 for i in range(10)]\n",
        "print(s)\n",
        "\n",
        "lista1=[5,10,15,20,25,30]\n",
        "lista2=[i/5 for i in lista1]\n",
        "print(lista2)"
      ],
      "execution_count": null,
      "outputs": [
        {
          "output_type": "stream",
          "text": [
            "[1, 1, 1, 1, 1, 1, 1, 1, 1, 1]\n",
            "[3, 3, 3, 3, 3, 3, 3, 3, 3, 3]\n",
            "[1.0, 2.0, 3.0, 4.0, 5.0, 6.0]\n"
          ],
          "name": "stdout"
        }
      ]
    },
    {
      "cell_type": "code",
      "metadata": {
        "colab": {
          "base_uri": "https://localhost:8080/"
        },
        "id": "j4roRL4G650d",
        "outputId": "29d9f8e8-7ae0-42ff-8bc2-28adddf83280"
      },
      "source": [
        "pera1=\"mama ama a ema\"\n",
        "pera2=[i for i in pera1 if i==\"a\"]\n",
        "print(pera2)\n",
        "\n",
        "print(len(pera2))"
      ],
      "execution_count": null,
      "outputs": [
        {
          "output_type": "stream",
          "text": [
            "['a', 'a', 'a', 'a', 'a', 'a']\n",
            "6\n"
          ],
          "name": "stdout"
        }
      ]
    }
  ]
}